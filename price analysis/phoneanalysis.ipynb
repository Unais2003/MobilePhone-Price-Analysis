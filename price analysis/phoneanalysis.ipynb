{
 "cells": [
  {
   "cell_type": "code",
   "execution_count": 39,
   "id": "ab22c66a",
   "metadata": {
    "execution": {
     "iopub.execute_input": "2023-09-23T06:33:14.877011Z",
     "iopub.status.busy": "2023-09-23T06:33:14.876163Z",
     "iopub.status.idle": "2023-09-23T06:33:16.545343Z",
     "shell.execute_reply": "2023-09-23T06:33:16.544152Z"
    },
    "papermill": {
     "duration": 1.694528,
     "end_time": "2023-09-23T06:33:16.548245",
     "exception": false,
     "start_time": "2023-09-23T06:33:14.853717",
     "status": "completed"
    },
    "tags": []
   },
   "outputs": [],
   "source": [
    "import pandas as pd\n",
    "import numpy as np\n",
    "import matplotlib.pyplot as plt\n",
    "import seaborn as sb \n",
    "%matplotlib inline"
   ]
  },
  {
   "cell_type": "code",
   "execution_count": 40,
   "id": "ab5ead3e",
   "metadata": {
    "execution": {
     "iopub.execute_input": "2023-09-23T06:33:16.591068Z",
     "iopub.status.busy": "2023-09-23T06:33:16.590675Z",
     "iopub.status.idle": "2023-09-23T06:33:16.626589Z",
     "shell.execute_reply": "2023-09-23T06:33:16.625499Z"
    },
    "papermill": {
     "duration": 0.061015,
     "end_time": "2023-09-23T06:33:16.629313",
     "exception": false,
     "start_time": "2023-09-23T06:33:16.568298",
     "status": "completed"
    },
    "tags": []
   },
   "outputs": [],
   "source": [
    "#loading the data\n",
    "df = pd.read_csv('all_phones.csv')"
   ]
  },
  {
   "cell_type": "code",
   "execution_count": 41,
   "id": "4c8b1695",
   "metadata": {},
   "outputs": [
    {
     "data": {
      "text/plain": [
       "(1512, 22)"
      ]
     },
     "execution_count": 41,
     "metadata": {},
     "output_type": "execute_result"
    }
   ],
   "source": [
    "df.shape"
   ]
  },
  {
   "cell_type": "code",
   "execution_count": 42,
   "id": "2d3dc1cd",
   "metadata": {},
   "outputs": [
    {
     "data": {
      "text/html": [
       "<div>\n",
       "<style scoped>\n",
       "    .dataframe tbody tr th:only-of-type {\n",
       "        vertical-align: middle;\n",
       "    }\n",
       "\n",
       "    .dataframe tbody tr th {\n",
       "        vertical-align: top;\n",
       "    }\n",
       "\n",
       "    .dataframe thead th {\n",
       "        text-align: right;\n",
       "    }\n",
       "</style>\n",
       "<table border=\"1\" class=\"dataframe\">\n",
       "  <thead>\n",
       "    <tr style=\"text-align: right;\">\n",
       "      <th></th>\n",
       "      <th>inches</th>\n",
       "      <th>battery</th>\n",
       "      <th>ram(GB)</th>\n",
       "      <th>weight(g)</th>\n",
       "      <th>storage(GB)</th>\n",
       "      <th>price(USD)</th>\n",
       "    </tr>\n",
       "  </thead>\n",
       "  <tbody>\n",
       "    <tr>\n",
       "      <th>count</th>\n",
       "      <td>1512.000000</td>\n",
       "      <td>1512.000000</td>\n",
       "      <td>1512.000000</td>\n",
       "      <td>1512.000000</td>\n",
       "      <td>1512.000000</td>\n",
       "      <td>1512.000000</td>\n",
       "    </tr>\n",
       "    <tr>\n",
       "      <th>mean</th>\n",
       "      <td>6.422460</td>\n",
       "      <td>4389.798942</td>\n",
       "      <td>6.683862</td>\n",
       "      <td>187.636243</td>\n",
       "      <td>109.164683</td>\n",
       "      <td>337.847036</td>\n",
       "    </tr>\n",
       "    <tr>\n",
       "      <th>std</th>\n",
       "      <td>0.477043</td>\n",
       "      <td>784.607022</td>\n",
       "      <td>2.701433</td>\n",
       "      <td>26.200115</td>\n",
       "      <td>74.436484</td>\n",
       "      <td>266.740821</td>\n",
       "    </tr>\n",
       "    <tr>\n",
       "      <th>min</th>\n",
       "      <td>3.800000</td>\n",
       "      <td>1821.000000</td>\n",
       "      <td>1.000000</td>\n",
       "      <td>130.000000</td>\n",
       "      <td>1.000000</td>\n",
       "      <td>40.000000</td>\n",
       "    </tr>\n",
       "    <tr>\n",
       "      <th>25%</th>\n",
       "      <td>6.300000</td>\n",
       "      <td>4000.000000</td>\n",
       "      <td>4.000000</td>\n",
       "      <td>175.000000</td>\n",
       "      <td>64.000000</td>\n",
       "      <td>179.997500</td>\n",
       "    </tr>\n",
       "    <tr>\n",
       "      <th>50%</th>\n",
       "      <td>6.500000</td>\n",
       "      <td>4500.000000</td>\n",
       "      <td>8.000000</td>\n",
       "      <td>187.000000</td>\n",
       "      <td>128.000000</td>\n",
       "      <td>260.000000</td>\n",
       "    </tr>\n",
       "    <tr>\n",
       "      <th>75%</th>\n",
       "      <td>6.670000</td>\n",
       "      <td>5000.000000</td>\n",
       "      <td>8.000000</td>\n",
       "      <td>197.250000</td>\n",
       "      <td>128.000000</td>\n",
       "      <td>400.000000</td>\n",
       "    </tr>\n",
       "    <tr>\n",
       "      <th>max</th>\n",
       "      <td>10.400000</td>\n",
       "      <td>7250.000000</td>\n",
       "      <td>24.000000</td>\n",
       "      <td>500.000000</td>\n",
       "      <td>512.000000</td>\n",
       "      <td>2300.000000</td>\n",
       "    </tr>\n",
       "  </tbody>\n",
       "</table>\n",
       "</div>"
      ],
      "text/plain": [
       "            inches      battery      ram(GB)    weight(g)  storage(GB)  \\\n",
       "count  1512.000000  1512.000000  1512.000000  1512.000000  1512.000000   \n",
       "mean      6.422460  4389.798942     6.683862   187.636243   109.164683   \n",
       "std       0.477043   784.607022     2.701433    26.200115    74.436484   \n",
       "min       3.800000  1821.000000     1.000000   130.000000     1.000000   \n",
       "25%       6.300000  4000.000000     4.000000   175.000000    64.000000   \n",
       "50%       6.500000  4500.000000     8.000000   187.000000   128.000000   \n",
       "75%       6.670000  5000.000000     8.000000   197.250000   128.000000   \n",
       "max      10.400000  7250.000000    24.000000   500.000000   512.000000   \n",
       "\n",
       "        price(USD)  \n",
       "count  1512.000000  \n",
       "mean    337.847036  \n",
       "std     266.740821  \n",
       "min      40.000000  \n",
       "25%     179.997500  \n",
       "50%     260.000000  \n",
       "75%     400.000000  \n",
       "max    2300.000000  "
      ]
     },
     "execution_count": 42,
     "metadata": {},
     "output_type": "execute_result"
    }
   ],
   "source": [
    "df.describe()"
   ]
  },
  {
   "cell_type": "code",
   "execution_count": 43,
   "id": "bc54a541",
   "metadata": {
    "execution": {
     "iopub.execute_input": "2023-09-23T06:33:16.712864Z",
     "iopub.status.busy": "2023-09-23T06:33:16.712409Z",
     "iopub.status.idle": "2023-09-23T06:33:16.756679Z",
     "shell.execute_reply": "2023-09-23T06:33:16.755539Z"
    },
    "papermill": {
     "duration": 0.068967,
     "end_time": "2023-09-23T06:33:16.759045",
     "exception": false,
     "start_time": "2023-09-23T06:33:16.690078",
     "status": "completed"
    },
    "tags": []
   },
   "outputs": [
    {
     "data": {
      "text/html": [
       "<div>\n",
       "<style scoped>\n",
       "    .dataframe tbody tr th:only-of-type {\n",
       "        vertical-align: middle;\n",
       "    }\n",
       "\n",
       "    .dataframe tbody tr th {\n",
       "        vertical-align: top;\n",
       "    }\n",
       "\n",
       "    .dataframe thead th {\n",
       "        text-align: right;\n",
       "    }\n",
       "</style>\n",
       "<table border=\"1\" class=\"dataframe\">\n",
       "  <thead>\n",
       "    <tr style=\"text-align: right;\">\n",
       "      <th></th>\n",
       "      <th>phone_name</th>\n",
       "      <th>brand</th>\n",
       "      <th>os</th>\n",
       "      <th>inches</th>\n",
       "      <th>resolution</th>\n",
       "      <th>battery</th>\n",
       "      <th>battery_type</th>\n",
       "      <th>ram(GB)</th>\n",
       "      <th>announcement_date</th>\n",
       "      <th>weight(g)</th>\n",
       "      <th>...</th>\n",
       "      <th>video_1080p</th>\n",
       "      <th>video_4K</th>\n",
       "      <th>video_8K</th>\n",
       "      <th>video_30fps</th>\n",
       "      <th>video_60fps</th>\n",
       "      <th>video_120fps</th>\n",
       "      <th>video_240fps</th>\n",
       "      <th>video_480fps</th>\n",
       "      <th>video_960fps</th>\n",
       "      <th>price(USD)</th>\n",
       "    </tr>\n",
       "  </thead>\n",
       "  <tbody>\n",
       "    <tr>\n",
       "      <th>0</th>\n",
       "      <td>Y6II Compact</td>\n",
       "      <td>Huawei</td>\n",
       "      <td>Android 5.1</td>\n",
       "      <td>5.0</td>\n",
       "      <td>720x1280</td>\n",
       "      <td>2200</td>\n",
       "      <td>Li-Po</td>\n",
       "      <td>2</td>\n",
       "      <td>2016-09-01</td>\n",
       "      <td>140.0</td>\n",
       "      <td>...</td>\n",
       "      <td>False</td>\n",
       "      <td>False</td>\n",
       "      <td>False</td>\n",
       "      <td>True</td>\n",
       "      <td>False</td>\n",
       "      <td>False</td>\n",
       "      <td>False</td>\n",
       "      <td>False</td>\n",
       "      <td>False</td>\n",
       "      <td>120.0</td>\n",
       "    </tr>\n",
       "    <tr>\n",
       "      <th>1</th>\n",
       "      <td>K20 plus</td>\n",
       "      <td>LG</td>\n",
       "      <td>Android 7.0</td>\n",
       "      <td>5.3</td>\n",
       "      <td>720x1280</td>\n",
       "      <td>2700</td>\n",
       "      <td>Li-Ion</td>\n",
       "      <td>2</td>\n",
       "      <td>2016-12-01</td>\n",
       "      <td>140.0</td>\n",
       "      <td>...</td>\n",
       "      <td>True</td>\n",
       "      <td>False</td>\n",
       "      <td>False</td>\n",
       "      <td>True</td>\n",
       "      <td>False</td>\n",
       "      <td>False</td>\n",
       "      <td>False</td>\n",
       "      <td>False</td>\n",
       "      <td>False</td>\n",
       "      <td>100.0</td>\n",
       "    </tr>\n",
       "    <tr>\n",
       "      <th>2</th>\n",
       "      <td>P8 Lite (2017)</td>\n",
       "      <td>Huawei</td>\n",
       "      <td>Android 7.0</td>\n",
       "      <td>5.2</td>\n",
       "      <td>1080x1920</td>\n",
       "      <td>3000</td>\n",
       "      <td>Li-Ion</td>\n",
       "      <td>4</td>\n",
       "      <td>2017-01-01</td>\n",
       "      <td>147.0</td>\n",
       "      <td>...</td>\n",
       "      <td>True</td>\n",
       "      <td>False</td>\n",
       "      <td>False</td>\n",
       "      <td>True</td>\n",
       "      <td>False</td>\n",
       "      <td>False</td>\n",
       "      <td>False</td>\n",
       "      <td>False</td>\n",
       "      <td>False</td>\n",
       "      <td>420.0</td>\n",
       "    </tr>\n",
       "    <tr>\n",
       "      <th>3</th>\n",
       "      <td>Redmi Note 4</td>\n",
       "      <td>Xiaomi</td>\n",
       "      <td>Android 6.0</td>\n",
       "      <td>5.5</td>\n",
       "      <td>1080x1920</td>\n",
       "      <td>4100</td>\n",
       "      <td>Li-Po</td>\n",
       "      <td>4</td>\n",
       "      <td>2017-01-01</td>\n",
       "      <td>165.0</td>\n",
       "      <td>...</td>\n",
       "      <td>True</td>\n",
       "      <td>False</td>\n",
       "      <td>False</td>\n",
       "      <td>True</td>\n",
       "      <td>False</td>\n",
       "      <td>True</td>\n",
       "      <td>False</td>\n",
       "      <td>False</td>\n",
       "      <td>False</td>\n",
       "      <td>150.0</td>\n",
       "    </tr>\n",
       "    <tr>\n",
       "      <th>4</th>\n",
       "      <td>P10</td>\n",
       "      <td>Huawei</td>\n",
       "      <td>Android 7.0</td>\n",
       "      <td>5.1</td>\n",
       "      <td>1080x1920</td>\n",
       "      <td>3200</td>\n",
       "      <td>Li-Ion</td>\n",
       "      <td>4</td>\n",
       "      <td>2017-02-01</td>\n",
       "      <td>145.0</td>\n",
       "      <td>...</td>\n",
       "      <td>True</td>\n",
       "      <td>True</td>\n",
       "      <td>False</td>\n",
       "      <td>True</td>\n",
       "      <td>True</td>\n",
       "      <td>False</td>\n",
       "      <td>False</td>\n",
       "      <td>False</td>\n",
       "      <td>False</td>\n",
       "      <td>420.0</td>\n",
       "    </tr>\n",
       "    <tr>\n",
       "      <th>5</th>\n",
       "      <td>Xperia XA1</td>\n",
       "      <td>Sony</td>\n",
       "      <td>Android 7.0</td>\n",
       "      <td>5.0</td>\n",
       "      <td>720x1280</td>\n",
       "      <td>2300</td>\n",
       "      <td>Li-Ion</td>\n",
       "      <td>3</td>\n",
       "      <td>2017-02-01</td>\n",
       "      <td>143.0</td>\n",
       "      <td>...</td>\n",
       "      <td>True</td>\n",
       "      <td>False</td>\n",
       "      <td>False</td>\n",
       "      <td>True</td>\n",
       "      <td>False</td>\n",
       "      <td>False</td>\n",
       "      <td>False</td>\n",
       "      <td>False</td>\n",
       "      <td>False</td>\n",
       "      <td>140.0</td>\n",
       "    </tr>\n",
       "    <tr>\n",
       "      <th>6</th>\n",
       "      <td>P10 Lite</td>\n",
       "      <td>Huawei</td>\n",
       "      <td>Android 7.0</td>\n",
       "      <td>5.2</td>\n",
       "      <td>1080x1920</td>\n",
       "      <td>3000</td>\n",
       "      <td>Li-Po</td>\n",
       "      <td>4</td>\n",
       "      <td>2017-02-01</td>\n",
       "      <td>146.0</td>\n",
       "      <td>...</td>\n",
       "      <td>True</td>\n",
       "      <td>False</td>\n",
       "      <td>False</td>\n",
       "      <td>True</td>\n",
       "      <td>False</td>\n",
       "      <td>False</td>\n",
       "      <td>False</td>\n",
       "      <td>False</td>\n",
       "      <td>False</td>\n",
       "      <td>420.0</td>\n",
       "    </tr>\n",
       "    <tr>\n",
       "      <th>7</th>\n",
       "      <td>P10 Plus</td>\n",
       "      <td>Huawei</td>\n",
       "      <td>Android 7.0</td>\n",
       "      <td>5.5</td>\n",
       "      <td>1440x2560</td>\n",
       "      <td>3750</td>\n",
       "      <td>Li-Ion</td>\n",
       "      <td>6</td>\n",
       "      <td>2017-02-01</td>\n",
       "      <td>165.0</td>\n",
       "      <td>...</td>\n",
       "      <td>True</td>\n",
       "      <td>True</td>\n",
       "      <td>False</td>\n",
       "      <td>True</td>\n",
       "      <td>True</td>\n",
       "      <td>False</td>\n",
       "      <td>False</td>\n",
       "      <td>False</td>\n",
       "      <td>False</td>\n",
       "      <td>170.0</td>\n",
       "    </tr>\n",
       "    <tr>\n",
       "      <th>8</th>\n",
       "      <td>Xperia XA1 Ultra</td>\n",
       "      <td>Sony</td>\n",
       "      <td>Android 7.0</td>\n",
       "      <td>6.0</td>\n",
       "      <td>1080x1920</td>\n",
       "      <td>2700</td>\n",
       "      <td>Li-Ion</td>\n",
       "      <td>4</td>\n",
       "      <td>2017-02-01</td>\n",
       "      <td>188.0</td>\n",
       "      <td>...</td>\n",
       "      <td>True</td>\n",
       "      <td>False</td>\n",
       "      <td>False</td>\n",
       "      <td>True</td>\n",
       "      <td>False</td>\n",
       "      <td>False</td>\n",
       "      <td>False</td>\n",
       "      <td>False</td>\n",
       "      <td>False</td>\n",
       "      <td>250.0</td>\n",
       "    </tr>\n",
       "    <tr>\n",
       "      <th>9</th>\n",
       "      <td>X power2</td>\n",
       "      <td>LG</td>\n",
       "      <td>Android 7.0</td>\n",
       "      <td>5.5</td>\n",
       "      <td>720x1280</td>\n",
       "      <td>4500</td>\n",
       "      <td>Li-Ion</td>\n",
       "      <td>2</td>\n",
       "      <td>2017-02-01</td>\n",
       "      <td>164.0</td>\n",
       "      <td>...</td>\n",
       "      <td>True</td>\n",
       "      <td>False</td>\n",
       "      <td>False</td>\n",
       "      <td>True</td>\n",
       "      <td>False</td>\n",
       "      <td>False</td>\n",
       "      <td>False</td>\n",
       "      <td>False</td>\n",
       "      <td>False</td>\n",
       "      <td>170.0</td>\n",
       "    </tr>\n",
       "  </tbody>\n",
       "</table>\n",
       "<p>10 rows × 22 columns</p>\n",
       "</div>"
      ],
      "text/plain": [
       "         phone_name   brand           os  inches resolution  battery  \\\n",
       "0      Y6II Compact  Huawei  Android 5.1     5.0   720x1280     2200   \n",
       "1          K20 plus      LG  Android 7.0     5.3   720x1280     2700   \n",
       "2    P8 Lite (2017)  Huawei  Android 7.0     5.2  1080x1920     3000   \n",
       "3      Redmi Note 4  Xiaomi  Android 6.0     5.5  1080x1920     4100   \n",
       "4               P10  Huawei  Android 7.0     5.1  1080x1920     3200   \n",
       "5        Xperia XA1    Sony  Android 7.0     5.0   720x1280     2300   \n",
       "6          P10 Lite  Huawei  Android 7.0     5.2  1080x1920     3000   \n",
       "7          P10 Plus  Huawei  Android 7.0     5.5  1440x2560     3750   \n",
       "8  Xperia XA1 Ultra    Sony  Android 7.0     6.0  1080x1920     2700   \n",
       "9          X power2      LG  Android 7.0     5.5   720x1280     4500   \n",
       "\n",
       "  battery_type  ram(GB) announcement_date  weight(g)  ...  video_1080p  \\\n",
       "0        Li-Po        2        2016-09-01      140.0  ...        False   \n",
       "1       Li-Ion        2        2016-12-01      140.0  ...         True   \n",
       "2       Li-Ion        4        2017-01-01      147.0  ...         True   \n",
       "3        Li-Po        4        2017-01-01      165.0  ...         True   \n",
       "4       Li-Ion        4        2017-02-01      145.0  ...         True   \n",
       "5       Li-Ion        3        2017-02-01      143.0  ...         True   \n",
       "6        Li-Po        4        2017-02-01      146.0  ...         True   \n",
       "7       Li-Ion        6        2017-02-01      165.0  ...         True   \n",
       "8       Li-Ion        4        2017-02-01      188.0  ...         True   \n",
       "9       Li-Ion        2        2017-02-01      164.0  ...         True   \n",
       "\n",
       "   video_4K  video_8K  video_30fps  video_60fps  video_120fps  video_240fps  \\\n",
       "0     False     False         True        False         False         False   \n",
       "1     False     False         True        False         False         False   \n",
       "2     False     False         True        False         False         False   \n",
       "3     False     False         True        False          True         False   \n",
       "4      True     False         True         True         False         False   \n",
       "5     False     False         True        False         False         False   \n",
       "6     False     False         True        False         False         False   \n",
       "7      True     False         True         True         False         False   \n",
       "8     False     False         True        False         False         False   \n",
       "9     False     False         True        False         False         False   \n",
       "\n",
       "   video_480fps  video_960fps  price(USD)  \n",
       "0         False         False       120.0  \n",
       "1         False         False       100.0  \n",
       "2         False         False       420.0  \n",
       "3         False         False       150.0  \n",
       "4         False         False       420.0  \n",
       "5         False         False       140.0  \n",
       "6         False         False       420.0  \n",
       "7         False         False       170.0  \n",
       "8         False         False       250.0  \n",
       "9         False         False       170.0  \n",
       "\n",
       "[10 rows x 22 columns]"
      ]
     },
     "execution_count": 43,
     "metadata": {},
     "output_type": "execute_result"
    }
   ],
   "source": [
    "df.head(10)"
   ]
  },
  {
   "cell_type": "code",
   "execution_count": 44,
   "id": "45230a51",
   "metadata": {
    "execution": {
     "iopub.execute_input": "2023-09-23T06:33:16.802629Z",
     "iopub.status.busy": "2023-09-23T06:33:16.801530Z",
     "iopub.status.idle": "2023-09-23T06:33:16.827926Z",
     "shell.execute_reply": "2023-09-23T06:33:16.826803Z"
    },
    "papermill": {
     "duration": 0.05055,
     "end_time": "2023-09-23T06:33:16.830190",
     "exception": false,
     "start_time": "2023-09-23T06:33:16.779640",
     "status": "completed"
    },
    "tags": []
   },
   "outputs": [
    {
     "data": {
      "text/html": [
       "<div>\n",
       "<style scoped>\n",
       "    .dataframe tbody tr th:only-of-type {\n",
       "        vertical-align: middle;\n",
       "    }\n",
       "\n",
       "    .dataframe tbody tr th {\n",
       "        vertical-align: top;\n",
       "    }\n",
       "\n",
       "    .dataframe thead th {\n",
       "        text-align: right;\n",
       "    }\n",
       "</style>\n",
       "<table border=\"1\" class=\"dataframe\">\n",
       "  <thead>\n",
       "    <tr style=\"text-align: right;\">\n",
       "      <th></th>\n",
       "      <th>phone_name</th>\n",
       "      <th>brand</th>\n",
       "      <th>os</th>\n",
       "      <th>inches</th>\n",
       "      <th>resolution</th>\n",
       "      <th>battery</th>\n",
       "      <th>battery_type</th>\n",
       "      <th>ram(GB)</th>\n",
       "      <th>announcement_date</th>\n",
       "      <th>weight(g)</th>\n",
       "      <th>...</th>\n",
       "      <th>video_1080p</th>\n",
       "      <th>video_4K</th>\n",
       "      <th>video_8K</th>\n",
       "      <th>video_30fps</th>\n",
       "      <th>video_60fps</th>\n",
       "      <th>video_120fps</th>\n",
       "      <th>video_240fps</th>\n",
       "      <th>video_480fps</th>\n",
       "      <th>video_960fps</th>\n",
       "      <th>price(USD)</th>\n",
       "    </tr>\n",
       "  </thead>\n",
       "  <tbody>\n",
       "    <tr>\n",
       "      <th>1507</th>\n",
       "      <td>vivo Y77t</td>\n",
       "      <td>Vivo</td>\n",
       "      <td>Android 13</td>\n",
       "      <td>6.64</td>\n",
       "      <td>1080x2388</td>\n",
       "      <td>5000</td>\n",
       "      <td>Li-Po</td>\n",
       "      <td>8</td>\n",
       "      <td>2023-08-18</td>\n",
       "      <td>190.0</td>\n",
       "      <td>...</td>\n",
       "      <td>True</td>\n",
       "      <td>False</td>\n",
       "      <td>False</td>\n",
       "      <td>True</td>\n",
       "      <td>False</td>\n",
       "      <td>False</td>\n",
       "      <td>False</td>\n",
       "      <td>False</td>\n",
       "      <td>False</td>\n",
       "      <td>170.000</td>\n",
       "    </tr>\n",
       "    <tr>\n",
       "      <th>1508</th>\n",
       "      <td>11x</td>\n",
       "      <td>Realme</td>\n",
       "      <td>Android 13</td>\n",
       "      <td>6.72</td>\n",
       "      <td>1080x2400</td>\n",
       "      <td>5000</td>\n",
       "      <td>Li-Po</td>\n",
       "      <td>8</td>\n",
       "      <td>2023-08-23</td>\n",
       "      <td>190.0</td>\n",
       "      <td>...</td>\n",
       "      <td>True</td>\n",
       "      <td>False</td>\n",
       "      <td>False</td>\n",
       "      <td>True</td>\n",
       "      <td>False</td>\n",
       "      <td>False</td>\n",
       "      <td>False</td>\n",
       "      <td>False</td>\n",
       "      <td>False</td>\n",
       "      <td>182.880</td>\n",
       "    </tr>\n",
       "    <tr>\n",
       "      <th>1509</th>\n",
       "      <td>GT5</td>\n",
       "      <td>Realme</td>\n",
       "      <td>Android 13</td>\n",
       "      <td>6.74</td>\n",
       "      <td>1240x2772</td>\n",
       "      <td>5240</td>\n",
       "      <td>Li-Po</td>\n",
       "      <td>16</td>\n",
       "      <td>2023-08-28</td>\n",
       "      <td>205.0</td>\n",
       "      <td>...</td>\n",
       "      <td>True</td>\n",
       "      <td>True</td>\n",
       "      <td>False</td>\n",
       "      <td>False</td>\n",
       "      <td>True</td>\n",
       "      <td>False</td>\n",
       "      <td>False</td>\n",
       "      <td>False</td>\n",
       "      <td>False</td>\n",
       "      <td>380.000</td>\n",
       "    </tr>\n",
       "    <tr>\n",
       "      <th>1510</th>\n",
       "      <td>GT5 240W</td>\n",
       "      <td>Realme</td>\n",
       "      <td>Android 13</td>\n",
       "      <td>6.74</td>\n",
       "      <td>1240x2772</td>\n",
       "      <td>4600</td>\n",
       "      <td>Li-Po</td>\n",
       "      <td>24</td>\n",
       "      <td>2023-08-28</td>\n",
       "      <td>205.0</td>\n",
       "      <td>...</td>\n",
       "      <td>True</td>\n",
       "      <td>True</td>\n",
       "      <td>False</td>\n",
       "      <td>False</td>\n",
       "      <td>True</td>\n",
       "      <td>False</td>\n",
       "      <td>False</td>\n",
       "      <td>False</td>\n",
       "      <td>False</td>\n",
       "      <td>470.000</td>\n",
       "    </tr>\n",
       "    <tr>\n",
       "      <th>1511</th>\n",
       "      <td>vivo iQOO Z7 Pro</td>\n",
       "      <td>Vivo</td>\n",
       "      <td>Android 13</td>\n",
       "      <td>6.78</td>\n",
       "      <td>1080x2400</td>\n",
       "      <td>4600</td>\n",
       "      <td>Li-Po</td>\n",
       "      <td>8</td>\n",
       "      <td>2023-08-31</td>\n",
       "      <td>175.0</td>\n",
       "      <td>...</td>\n",
       "      <td>True</td>\n",
       "      <td>True</td>\n",
       "      <td>False</td>\n",
       "      <td>True</td>\n",
       "      <td>False</td>\n",
       "      <td>False</td>\n",
       "      <td>False</td>\n",
       "      <td>False</td>\n",
       "      <td>False</td>\n",
       "      <td>287.988</td>\n",
       "    </tr>\n",
       "  </tbody>\n",
       "</table>\n",
       "<p>5 rows × 22 columns</p>\n",
       "</div>"
      ],
      "text/plain": [
       "            phone_name   brand          os  inches resolution  battery  \\\n",
       "1507         vivo Y77t    Vivo  Android 13    6.64  1080x2388     5000   \n",
       "1508               11x  Realme  Android 13    6.72  1080x2400     5000   \n",
       "1509               GT5  Realme  Android 13    6.74  1240x2772     5240   \n",
       "1510          GT5 240W  Realme  Android 13    6.74  1240x2772     4600   \n",
       "1511  vivo iQOO Z7 Pro    Vivo  Android 13    6.78  1080x2400     4600   \n",
       "\n",
       "     battery_type  ram(GB) announcement_date  weight(g)  ...  video_1080p  \\\n",
       "1507        Li-Po        8        2023-08-18      190.0  ...         True   \n",
       "1508        Li-Po        8        2023-08-23      190.0  ...         True   \n",
       "1509        Li-Po       16        2023-08-28      205.0  ...         True   \n",
       "1510        Li-Po       24        2023-08-28      205.0  ...         True   \n",
       "1511        Li-Po        8        2023-08-31      175.0  ...         True   \n",
       "\n",
       "      video_4K  video_8K  video_30fps  video_60fps  video_120fps  \\\n",
       "1507     False     False         True        False         False   \n",
       "1508     False     False         True        False         False   \n",
       "1509      True     False        False         True         False   \n",
       "1510      True     False        False         True         False   \n",
       "1511      True     False         True        False         False   \n",
       "\n",
       "      video_240fps  video_480fps  video_960fps  price(USD)  \n",
       "1507         False         False         False     170.000  \n",
       "1508         False         False         False     182.880  \n",
       "1509         False         False         False     380.000  \n",
       "1510         False         False         False     470.000  \n",
       "1511         False         False         False     287.988  \n",
       "\n",
       "[5 rows x 22 columns]"
      ]
     },
     "execution_count": 44,
     "metadata": {},
     "output_type": "execute_result"
    }
   ],
   "source": [
    "df.tail(5)"
   ]
  },
  {
   "cell_type": "code",
   "execution_count": 45,
   "id": "676f6e14",
   "metadata": {
    "execution": {
     "iopub.execute_input": "2023-09-23T06:33:16.873614Z",
     "iopub.status.busy": "2023-09-23T06:33:16.873206Z",
     "iopub.status.idle": "2023-09-23T06:33:16.888488Z",
     "shell.execute_reply": "2023-09-23T06:33:16.887140Z"
    },
    "papermill": {
     "duration": 0.039795,
     "end_time": "2023-09-23T06:33:16.890860",
     "exception": false,
     "start_time": "2023-09-23T06:33:16.851065",
     "status": "completed"
    },
    "tags": []
   },
   "outputs": [
    {
     "data": {
      "text/html": [
       "<div>\n",
       "<style scoped>\n",
       "    .dataframe tbody tr th:only-of-type {\n",
       "        vertical-align: middle;\n",
       "    }\n",
       "\n",
       "    .dataframe tbody tr th {\n",
       "        vertical-align: top;\n",
       "    }\n",
       "\n",
       "    .dataframe thead th {\n",
       "        text-align: right;\n",
       "    }\n",
       "</style>\n",
       "<table border=\"1\" class=\"dataframe\">\n",
       "  <thead>\n",
       "    <tr style=\"text-align: right;\">\n",
       "      <th></th>\n",
       "      <th>storage(GB)</th>\n",
       "      <th>video_720p</th>\n",
       "    </tr>\n",
       "  </thead>\n",
       "  <tbody>\n",
       "    <tr>\n",
       "      <th>0</th>\n",
       "      <td>16</td>\n",
       "      <td>True</td>\n",
       "    </tr>\n",
       "    <tr>\n",
       "      <th>1</th>\n",
       "      <td>16</td>\n",
       "      <td>False</td>\n",
       "    </tr>\n",
       "    <tr>\n",
       "      <th>2</th>\n",
       "      <td>16</td>\n",
       "      <td>False</td>\n",
       "    </tr>\n",
       "    <tr>\n",
       "      <th>3</th>\n",
       "      <td>32</td>\n",
       "      <td>True</td>\n",
       "    </tr>\n",
       "    <tr>\n",
       "      <th>4</th>\n",
       "      <td>32</td>\n",
       "      <td>True</td>\n",
       "    </tr>\n",
       "    <tr>\n",
       "      <th>...</th>\n",
       "      <td>...</td>\n",
       "      <td>...</td>\n",
       "    </tr>\n",
       "    <tr>\n",
       "      <th>1507</th>\n",
       "      <td>256</td>\n",
       "      <td>False</td>\n",
       "    </tr>\n",
       "    <tr>\n",
       "      <th>1508</th>\n",
       "      <td>128</td>\n",
       "      <td>False</td>\n",
       "    </tr>\n",
       "    <tr>\n",
       "      <th>1509</th>\n",
       "      <td>256</td>\n",
       "      <td>True</td>\n",
       "    </tr>\n",
       "    <tr>\n",
       "      <th>1510</th>\n",
       "      <td>1</td>\n",
       "      <td>True</td>\n",
       "    </tr>\n",
       "    <tr>\n",
       "      <th>1511</th>\n",
       "      <td>128</td>\n",
       "      <td>True</td>\n",
       "    </tr>\n",
       "  </tbody>\n",
       "</table>\n",
       "<p>1512 rows × 2 columns</p>\n",
       "</div>"
      ],
      "text/plain": [
       "      storage(GB)  video_720p\n",
       "0              16        True\n",
       "1              16       False\n",
       "2              16       False\n",
       "3              32        True\n",
       "4              32        True\n",
       "...           ...         ...\n",
       "1507          256       False\n",
       "1508          128       False\n",
       "1509          256        True\n",
       "1510            1        True\n",
       "1511          128        True\n",
       "\n",
       "[1512 rows x 2 columns]"
      ]
     },
     "execution_count": 45,
     "metadata": {},
     "output_type": "execute_result"
    }
   ],
   "source": [
    "df.iloc[:, 10:12]"
   ]
  },
  {
   "cell_type": "code",
   "execution_count": 46,
   "id": "8fc5d38f",
   "metadata": {
    "execution": {
     "iopub.execute_input": "2023-09-23T06:33:16.935368Z",
     "iopub.status.busy": "2023-09-23T06:33:16.934960Z",
     "iopub.status.idle": "2023-09-23T06:33:16.964239Z",
     "shell.execute_reply": "2023-09-23T06:33:16.962785Z"
    },
    "papermill": {
     "duration": 0.054675,
     "end_time": "2023-09-23T06:33:16.966694",
     "exception": false,
     "start_time": "2023-09-23T06:33:16.912019",
     "status": "completed"
    },
    "tags": []
   },
   "outputs": [
    {
     "name": "stdout",
     "output_type": "stream",
     "text": [
      "<class 'pandas.core.frame.DataFrame'>\n",
      "RangeIndex: 1512 entries, 0 to 1511\n",
      "Data columns (total 22 columns):\n",
      " #   Column             Non-Null Count  Dtype  \n",
      "---  ------             --------------  -----  \n",
      " 0   phone_name         1512 non-null   object \n",
      " 1   brand              1512 non-null   object \n",
      " 2   os                 1512 non-null   object \n",
      " 3   inches             1512 non-null   float64\n",
      " 4   resolution         1512 non-null   object \n",
      " 5   battery            1512 non-null   int64  \n",
      " 6   battery_type       1512 non-null   object \n",
      " 7   ram(GB)            1512 non-null   int64  \n",
      " 8   announcement_date  1512 non-null   object \n",
      " 9   weight(g)          1512 non-null   float64\n",
      " 10  storage(GB)        1512 non-null   int64  \n",
      " 11  video_720p         1512 non-null   bool   \n",
      " 12  video_1080p        1512 non-null   bool   \n",
      " 13  video_4K           1512 non-null   bool   \n",
      " 14  video_8K           1512 non-null   bool   \n",
      " 15  video_30fps        1512 non-null   bool   \n",
      " 16  video_60fps        1512 non-null   bool   \n",
      " 17  video_120fps       1512 non-null   bool   \n",
      " 18  video_240fps       1512 non-null   bool   \n",
      " 19  video_480fps       1512 non-null   bool   \n",
      " 20  video_960fps       1512 non-null   bool   \n",
      " 21  price(USD)         1512 non-null   float64\n",
      "dtypes: bool(10), float64(3), int64(3), object(6)\n",
      "memory usage: 156.6+ KB\n"
     ]
    }
   ],
   "source": [
    "df.info()"
   ]
  },
  {
   "cell_type": "markdown",
   "id": "849e0ef8",
   "metadata": {},
   "source": [
    "Preprocessing"
   ]
  },
  {
   "cell_type": "code",
   "execution_count": 47,
   "id": "a296277e",
   "metadata": {},
   "outputs": [
    {
     "data": {
      "text/html": [
       "<div>\n",
       "<style scoped>\n",
       "    .dataframe tbody tr th:only-of-type {\n",
       "        vertical-align: middle;\n",
       "    }\n",
       "\n",
       "    .dataframe tbody tr th {\n",
       "        vertical-align: top;\n",
       "    }\n",
       "\n",
       "    .dataframe thead th {\n",
       "        text-align: right;\n",
       "    }\n",
       "</style>\n",
       "<table border=\"1\" class=\"dataframe\">\n",
       "  <thead>\n",
       "    <tr style=\"text-align: right;\">\n",
       "      <th></th>\n",
       "      <th>phone_name</th>\n",
       "      <th>brand</th>\n",
       "      <th>os</th>\n",
       "      <th>inches</th>\n",
       "      <th>resolution</th>\n",
       "      <th>battery</th>\n",
       "      <th>battery_type</th>\n",
       "      <th>ram(GB)</th>\n",
       "      <th>announcement_date</th>\n",
       "      <th>weight(g)</th>\n",
       "      <th>...</th>\n",
       "      <th>video_1080p</th>\n",
       "      <th>video_4K</th>\n",
       "      <th>video_8K</th>\n",
       "      <th>video_30fps</th>\n",
       "      <th>video_60fps</th>\n",
       "      <th>video_120fps</th>\n",
       "      <th>video_240fps</th>\n",
       "      <th>video_480fps</th>\n",
       "      <th>video_960fps</th>\n",
       "      <th>price(USD)</th>\n",
       "    </tr>\n",
       "  </thead>\n",
       "  <tbody>\n",
       "    <tr>\n",
       "      <th>0</th>\n",
       "      <td>False</td>\n",
       "      <td>False</td>\n",
       "      <td>False</td>\n",
       "      <td>False</td>\n",
       "      <td>False</td>\n",
       "      <td>False</td>\n",
       "      <td>False</td>\n",
       "      <td>False</td>\n",
       "      <td>False</td>\n",
       "      <td>False</td>\n",
       "      <td>...</td>\n",
       "      <td>False</td>\n",
       "      <td>False</td>\n",
       "      <td>False</td>\n",
       "      <td>False</td>\n",
       "      <td>False</td>\n",
       "      <td>False</td>\n",
       "      <td>False</td>\n",
       "      <td>False</td>\n",
       "      <td>False</td>\n",
       "      <td>False</td>\n",
       "    </tr>\n",
       "    <tr>\n",
       "      <th>1</th>\n",
       "      <td>False</td>\n",
       "      <td>False</td>\n",
       "      <td>False</td>\n",
       "      <td>False</td>\n",
       "      <td>False</td>\n",
       "      <td>False</td>\n",
       "      <td>False</td>\n",
       "      <td>False</td>\n",
       "      <td>False</td>\n",
       "      <td>False</td>\n",
       "      <td>...</td>\n",
       "      <td>False</td>\n",
       "      <td>False</td>\n",
       "      <td>False</td>\n",
       "      <td>False</td>\n",
       "      <td>False</td>\n",
       "      <td>False</td>\n",
       "      <td>False</td>\n",
       "      <td>False</td>\n",
       "      <td>False</td>\n",
       "      <td>False</td>\n",
       "    </tr>\n",
       "    <tr>\n",
       "      <th>2</th>\n",
       "      <td>False</td>\n",
       "      <td>False</td>\n",
       "      <td>False</td>\n",
       "      <td>False</td>\n",
       "      <td>False</td>\n",
       "      <td>False</td>\n",
       "      <td>False</td>\n",
       "      <td>False</td>\n",
       "      <td>False</td>\n",
       "      <td>False</td>\n",
       "      <td>...</td>\n",
       "      <td>False</td>\n",
       "      <td>False</td>\n",
       "      <td>False</td>\n",
       "      <td>False</td>\n",
       "      <td>False</td>\n",
       "      <td>False</td>\n",
       "      <td>False</td>\n",
       "      <td>False</td>\n",
       "      <td>False</td>\n",
       "      <td>False</td>\n",
       "    </tr>\n",
       "    <tr>\n",
       "      <th>3</th>\n",
       "      <td>False</td>\n",
       "      <td>False</td>\n",
       "      <td>False</td>\n",
       "      <td>False</td>\n",
       "      <td>False</td>\n",
       "      <td>False</td>\n",
       "      <td>False</td>\n",
       "      <td>False</td>\n",
       "      <td>False</td>\n",
       "      <td>False</td>\n",
       "      <td>...</td>\n",
       "      <td>False</td>\n",
       "      <td>False</td>\n",
       "      <td>False</td>\n",
       "      <td>False</td>\n",
       "      <td>False</td>\n",
       "      <td>False</td>\n",
       "      <td>False</td>\n",
       "      <td>False</td>\n",
       "      <td>False</td>\n",
       "      <td>False</td>\n",
       "    </tr>\n",
       "    <tr>\n",
       "      <th>4</th>\n",
       "      <td>False</td>\n",
       "      <td>False</td>\n",
       "      <td>False</td>\n",
       "      <td>False</td>\n",
       "      <td>False</td>\n",
       "      <td>False</td>\n",
       "      <td>False</td>\n",
       "      <td>False</td>\n",
       "      <td>False</td>\n",
       "      <td>False</td>\n",
       "      <td>...</td>\n",
       "      <td>False</td>\n",
       "      <td>False</td>\n",
       "      <td>False</td>\n",
       "      <td>False</td>\n",
       "      <td>False</td>\n",
       "      <td>False</td>\n",
       "      <td>False</td>\n",
       "      <td>False</td>\n",
       "      <td>False</td>\n",
       "      <td>False</td>\n",
       "    </tr>\n",
       "    <tr>\n",
       "      <th>...</th>\n",
       "      <td>...</td>\n",
       "      <td>...</td>\n",
       "      <td>...</td>\n",
       "      <td>...</td>\n",
       "      <td>...</td>\n",
       "      <td>...</td>\n",
       "      <td>...</td>\n",
       "      <td>...</td>\n",
       "      <td>...</td>\n",
       "      <td>...</td>\n",
       "      <td>...</td>\n",
       "      <td>...</td>\n",
       "      <td>...</td>\n",
       "      <td>...</td>\n",
       "      <td>...</td>\n",
       "      <td>...</td>\n",
       "      <td>...</td>\n",
       "      <td>...</td>\n",
       "      <td>...</td>\n",
       "      <td>...</td>\n",
       "      <td>...</td>\n",
       "    </tr>\n",
       "    <tr>\n",
       "      <th>1507</th>\n",
       "      <td>False</td>\n",
       "      <td>False</td>\n",
       "      <td>False</td>\n",
       "      <td>False</td>\n",
       "      <td>False</td>\n",
       "      <td>False</td>\n",
       "      <td>False</td>\n",
       "      <td>False</td>\n",
       "      <td>False</td>\n",
       "      <td>False</td>\n",
       "      <td>...</td>\n",
       "      <td>False</td>\n",
       "      <td>False</td>\n",
       "      <td>False</td>\n",
       "      <td>False</td>\n",
       "      <td>False</td>\n",
       "      <td>False</td>\n",
       "      <td>False</td>\n",
       "      <td>False</td>\n",
       "      <td>False</td>\n",
       "      <td>False</td>\n",
       "    </tr>\n",
       "    <tr>\n",
       "      <th>1508</th>\n",
       "      <td>False</td>\n",
       "      <td>False</td>\n",
       "      <td>False</td>\n",
       "      <td>False</td>\n",
       "      <td>False</td>\n",
       "      <td>False</td>\n",
       "      <td>False</td>\n",
       "      <td>False</td>\n",
       "      <td>False</td>\n",
       "      <td>False</td>\n",
       "      <td>...</td>\n",
       "      <td>False</td>\n",
       "      <td>False</td>\n",
       "      <td>False</td>\n",
       "      <td>False</td>\n",
       "      <td>False</td>\n",
       "      <td>False</td>\n",
       "      <td>False</td>\n",
       "      <td>False</td>\n",
       "      <td>False</td>\n",
       "      <td>False</td>\n",
       "    </tr>\n",
       "    <tr>\n",
       "      <th>1509</th>\n",
       "      <td>False</td>\n",
       "      <td>False</td>\n",
       "      <td>False</td>\n",
       "      <td>False</td>\n",
       "      <td>False</td>\n",
       "      <td>False</td>\n",
       "      <td>False</td>\n",
       "      <td>False</td>\n",
       "      <td>False</td>\n",
       "      <td>False</td>\n",
       "      <td>...</td>\n",
       "      <td>False</td>\n",
       "      <td>False</td>\n",
       "      <td>False</td>\n",
       "      <td>False</td>\n",
       "      <td>False</td>\n",
       "      <td>False</td>\n",
       "      <td>False</td>\n",
       "      <td>False</td>\n",
       "      <td>False</td>\n",
       "      <td>False</td>\n",
       "    </tr>\n",
       "    <tr>\n",
       "      <th>1510</th>\n",
       "      <td>False</td>\n",
       "      <td>False</td>\n",
       "      <td>False</td>\n",
       "      <td>False</td>\n",
       "      <td>False</td>\n",
       "      <td>False</td>\n",
       "      <td>False</td>\n",
       "      <td>False</td>\n",
       "      <td>False</td>\n",
       "      <td>False</td>\n",
       "      <td>...</td>\n",
       "      <td>False</td>\n",
       "      <td>False</td>\n",
       "      <td>False</td>\n",
       "      <td>False</td>\n",
       "      <td>False</td>\n",
       "      <td>False</td>\n",
       "      <td>False</td>\n",
       "      <td>False</td>\n",
       "      <td>False</td>\n",
       "      <td>False</td>\n",
       "    </tr>\n",
       "    <tr>\n",
       "      <th>1511</th>\n",
       "      <td>False</td>\n",
       "      <td>False</td>\n",
       "      <td>False</td>\n",
       "      <td>False</td>\n",
       "      <td>False</td>\n",
       "      <td>False</td>\n",
       "      <td>False</td>\n",
       "      <td>False</td>\n",
       "      <td>False</td>\n",
       "      <td>False</td>\n",
       "      <td>...</td>\n",
       "      <td>False</td>\n",
       "      <td>False</td>\n",
       "      <td>False</td>\n",
       "      <td>False</td>\n",
       "      <td>False</td>\n",
       "      <td>False</td>\n",
       "      <td>False</td>\n",
       "      <td>False</td>\n",
       "      <td>False</td>\n",
       "      <td>False</td>\n",
       "    </tr>\n",
       "  </tbody>\n",
       "</table>\n",
       "<p>1512 rows × 22 columns</p>\n",
       "</div>"
      ],
      "text/plain": [
       "      phone_name  brand     os  inches  resolution  battery  battery_type  \\\n",
       "0          False  False  False   False       False    False         False   \n",
       "1          False  False  False   False       False    False         False   \n",
       "2          False  False  False   False       False    False         False   \n",
       "3          False  False  False   False       False    False         False   \n",
       "4          False  False  False   False       False    False         False   \n",
       "...          ...    ...    ...     ...         ...      ...           ...   \n",
       "1507       False  False  False   False       False    False         False   \n",
       "1508       False  False  False   False       False    False         False   \n",
       "1509       False  False  False   False       False    False         False   \n",
       "1510       False  False  False   False       False    False         False   \n",
       "1511       False  False  False   False       False    False         False   \n",
       "\n",
       "      ram(GB)  announcement_date  weight(g)  ...  video_1080p  video_4K  \\\n",
       "0       False              False      False  ...        False     False   \n",
       "1       False              False      False  ...        False     False   \n",
       "2       False              False      False  ...        False     False   \n",
       "3       False              False      False  ...        False     False   \n",
       "4       False              False      False  ...        False     False   \n",
       "...       ...                ...        ...  ...          ...       ...   \n",
       "1507    False              False      False  ...        False     False   \n",
       "1508    False              False      False  ...        False     False   \n",
       "1509    False              False      False  ...        False     False   \n",
       "1510    False              False      False  ...        False     False   \n",
       "1511    False              False      False  ...        False     False   \n",
       "\n",
       "      video_8K  video_30fps  video_60fps  video_120fps  video_240fps  \\\n",
       "0        False        False        False         False         False   \n",
       "1        False        False        False         False         False   \n",
       "2        False        False        False         False         False   \n",
       "3        False        False        False         False         False   \n",
       "4        False        False        False         False         False   \n",
       "...        ...          ...          ...           ...           ...   \n",
       "1507     False        False        False         False         False   \n",
       "1508     False        False        False         False         False   \n",
       "1509     False        False        False         False         False   \n",
       "1510     False        False        False         False         False   \n",
       "1511     False        False        False         False         False   \n",
       "\n",
       "      video_480fps  video_960fps  price(USD)  \n",
       "0            False         False       False  \n",
       "1            False         False       False  \n",
       "2            False         False       False  \n",
       "3            False         False       False  \n",
       "4            False         False       False  \n",
       "...            ...           ...         ...  \n",
       "1507         False         False       False  \n",
       "1508         False         False       False  \n",
       "1509         False         False       False  \n",
       "1510         False         False       False  \n",
       "1511         False         False       False  \n",
       "\n",
       "[1512 rows x 22 columns]"
      ]
     },
     "execution_count": 47,
     "metadata": {},
     "output_type": "execute_result"
    }
   ],
   "source": [
    "df.isnull()"
   ]
  },
  {
   "cell_type": "code",
   "execution_count": 48,
   "id": "28dfa2d5",
   "metadata": {
    "execution": {
     "iopub.execute_input": "2023-09-23T06:33:17.159558Z",
     "iopub.status.busy": "2023-09-23T06:33:17.159161Z",
     "iopub.status.idle": "2023-09-23T06:33:17.169997Z",
     "shell.execute_reply": "2023-09-23T06:33:17.168837Z"
    },
    "papermill": {
     "duration": 0.036698,
     "end_time": "2023-09-23T06:33:17.172609",
     "exception": false,
     "start_time": "2023-09-23T06:33:17.135911",
     "status": "completed"
    },
    "tags": []
   },
   "outputs": [
    {
     "data": {
      "text/plain": [
       "phone_name           0\n",
       "brand                0\n",
       "os                   0\n",
       "inches               0\n",
       "resolution           0\n",
       "battery              0\n",
       "battery_type         0\n",
       "ram(GB)              0\n",
       "announcement_date    0\n",
       "weight(g)            0\n",
       "storage(GB)          0\n",
       "video_720p           0\n",
       "video_1080p          0\n",
       "video_4K             0\n",
       "video_8K             0\n",
       "video_30fps          0\n",
       "video_60fps          0\n",
       "video_120fps         0\n",
       "video_240fps         0\n",
       "video_480fps         0\n",
       "video_960fps         0\n",
       "price(USD)           0\n",
       "dtype: int64"
      ]
     },
     "execution_count": 48,
     "metadata": {},
     "output_type": "execute_result"
    }
   ],
   "source": [
    "df.isna().sum()"
   ]
  },
  {
   "cell_type": "code",
   "execution_count": 49,
   "id": "c552b2fd",
   "metadata": {
    "execution": {
     "iopub.execute_input": "2023-09-23T06:33:17.261556Z",
     "iopub.status.busy": "2023-09-23T06:33:17.261166Z",
     "iopub.status.idle": "2023-09-23T06:33:17.278991Z",
     "shell.execute_reply": "2023-09-23T06:33:17.277811Z"
    },
    "papermill": {
     "duration": 0.043652,
     "end_time": "2023-09-23T06:33:17.281719",
     "exception": false,
     "start_time": "2023-09-23T06:33:17.238067",
     "status": "completed"
    },
    "tags": []
   },
   "outputs": [
    {
     "data": {
      "text/plain": [
       "0"
      ]
     },
     "execution_count": 49,
     "metadata": {},
     "output_type": "execute_result"
    }
   ],
   "source": [
    "#checking duplicates\n",
    "df.duplicated().sum()"
   ]
  },
  {
   "cell_type": "markdown",
   "id": "afdd7809",
   "metadata": {},
   "source": [
    "Categorial Values"
   ]
  },
  {
   "cell_type": "code",
   "execution_count": 50,
   "id": "2f635421",
   "metadata": {
    "execution": {
     "iopub.execute_input": "2023-09-23T06:33:17.375014Z",
     "iopub.status.busy": "2023-09-23T06:33:17.374622Z",
     "iopub.status.idle": "2023-09-23T06:33:17.384389Z",
     "shell.execute_reply": "2023-09-23T06:33:17.383154Z"
    },
    "papermill": {
     "duration": 0.03669,
     "end_time": "2023-09-23T06:33:17.386969",
     "exception": false,
     "start_time": "2023-09-23T06:33:17.350279",
     "status": "completed"
    },
    "tags": []
   },
   "outputs": [
    {
     "data": {
      "text/plain": [
       "V30                         3\n",
       "K5                          2\n",
       "7 Pro                       2\n",
       "9                           2\n",
       "6                           2\n",
       "                           ..\n",
       "Galaxy A11                  1\n",
       "Redmi Note 9 Pro (India)    1\n",
       "Redmi Note 9 Pro Max        1\n",
       "Find X2                     1\n",
       "vivo iQOO Z7 Pro            1\n",
       "Name: phone_name, Length: 1496, dtype: int64"
      ]
     },
     "execution_count": 50,
     "metadata": {},
     "output_type": "execute_result"
    }
   ],
   "source": [
    "df['phone_name'].value_counts()"
   ]
  },
  {
   "cell_type": "code",
   "execution_count": 51,
   "id": "e6aa9d14",
   "metadata": {
    "execution": {
     "iopub.execute_input": "2023-09-23T06:33:17.433009Z",
     "iopub.status.busy": "2023-09-23T06:33:17.432464Z",
     "iopub.status.idle": "2023-09-23T06:33:17.459388Z",
     "shell.execute_reply": "2023-09-23T06:33:17.458283Z"
    },
    "papermill": {
     "duration": 0.052991,
     "end_time": "2023-09-23T06:33:17.461984",
     "exception": false,
     "start_time": "2023-09-23T06:33:17.408993",
     "status": "completed"
    },
    "tags": []
   },
   "outputs": [
    {
     "data": {
      "text/html": [
       "<div>\n",
       "<style scoped>\n",
       "    .dataframe tbody tr th:only-of-type {\n",
       "        vertical-align: middle;\n",
       "    }\n",
       "\n",
       "    .dataframe tbody tr th {\n",
       "        vertical-align: top;\n",
       "    }\n",
       "\n",
       "    .dataframe thead th {\n",
       "        text-align: right;\n",
       "    }\n",
       "</style>\n",
       "<table border=\"1\" class=\"dataframe\">\n",
       "  <thead>\n",
       "    <tr style=\"text-align: right;\">\n",
       "      <th></th>\n",
       "      <th>phone_name</th>\n",
       "      <th>brand</th>\n",
       "      <th>os</th>\n",
       "      <th>inches</th>\n",
       "      <th>resolution</th>\n",
       "      <th>battery</th>\n",
       "      <th>battery_type</th>\n",
       "      <th>ram(GB)</th>\n",
       "      <th>announcement_date</th>\n",
       "      <th>weight(g)</th>\n",
       "      <th>...</th>\n",
       "      <th>video_1080p</th>\n",
       "      <th>video_4K</th>\n",
       "      <th>video_8K</th>\n",
       "      <th>video_30fps</th>\n",
       "      <th>video_60fps</th>\n",
       "      <th>video_120fps</th>\n",
       "      <th>video_240fps</th>\n",
       "      <th>video_480fps</th>\n",
       "      <th>video_960fps</th>\n",
       "      <th>price(USD)</th>\n",
       "    </tr>\n",
       "  </thead>\n",
       "  <tbody>\n",
       "    <tr>\n",
       "      <th>53</th>\n",
       "      <td>V30</td>\n",
       "      <td>LG</td>\n",
       "      <td>Android 7.1.2</td>\n",
       "      <td>6.00</td>\n",
       "      <td>1440x2880</td>\n",
       "      <td>3300</td>\n",
       "      <td>Li-Po</td>\n",
       "      <td>4</td>\n",
       "      <td>2017-08-31</td>\n",
       "      <td>158.0</td>\n",
       "      <td>...</td>\n",
       "      <td>True</td>\n",
       "      <td>True</td>\n",
       "      <td>False</td>\n",
       "      <td>True</td>\n",
       "      <td>True</td>\n",
       "      <td>True</td>\n",
       "      <td>False</td>\n",
       "      <td>False</td>\n",
       "      <td>False</td>\n",
       "      <td>200.0</td>\n",
       "    </tr>\n",
       "    <tr>\n",
       "      <th>433</th>\n",
       "      <td>V30</td>\n",
       "      <td>Honor</td>\n",
       "      <td>Android 10</td>\n",
       "      <td>6.57</td>\n",
       "      <td>1080x2400</td>\n",
       "      <td>4200</td>\n",
       "      <td>Li-Po</td>\n",
       "      <td>8</td>\n",
       "      <td>2019-11-01</td>\n",
       "      <td>213.0</td>\n",
       "      <td>...</td>\n",
       "      <td>True</td>\n",
       "      <td>True</td>\n",
       "      <td>False</td>\n",
       "      <td>True</td>\n",
       "      <td>True</td>\n",
       "      <td>False</td>\n",
       "      <td>False</td>\n",
       "      <td>False</td>\n",
       "      <td>True</td>\n",
       "      <td>430.0</td>\n",
       "    </tr>\n",
       "    <tr>\n",
       "      <th>1376</th>\n",
       "      <td>V30</td>\n",
       "      <td>Realme</td>\n",
       "      <td>Android 12</td>\n",
       "      <td>6.50</td>\n",
       "      <td>720x1600</td>\n",
       "      <td>5000</td>\n",
       "      <td>Li-Po</td>\n",
       "      <td>8</td>\n",
       "      <td>2023-02-09</td>\n",
       "      <td>186.0</td>\n",
       "      <td>...</td>\n",
       "      <td>True</td>\n",
       "      <td>False</td>\n",
       "      <td>False</td>\n",
       "      <td>True</td>\n",
       "      <td>False</td>\n",
       "      <td>False</td>\n",
       "      <td>False</td>\n",
       "      <td>False</td>\n",
       "      <td>False</td>\n",
       "      <td>150.0</td>\n",
       "    </tr>\n",
       "  </tbody>\n",
       "</table>\n",
       "<p>3 rows × 22 columns</p>\n",
       "</div>"
      ],
      "text/plain": [
       "     phone_name   brand             os  inches resolution  battery  \\\n",
       "53          V30      LG  Android 7.1.2    6.00  1440x2880     3300   \n",
       "433         V30   Honor     Android 10    6.57  1080x2400     4200   \n",
       "1376        V30  Realme     Android 12    6.50   720x1600     5000   \n",
       "\n",
       "     battery_type  ram(GB) announcement_date  weight(g)  ...  video_1080p  \\\n",
       "53          Li-Po        4        2017-08-31      158.0  ...         True   \n",
       "433         Li-Po        8        2019-11-01      213.0  ...         True   \n",
       "1376        Li-Po        8        2023-02-09      186.0  ...         True   \n",
       "\n",
       "      video_4K  video_8K  video_30fps  video_60fps  video_120fps  \\\n",
       "53        True     False         True         True          True   \n",
       "433       True     False         True         True         False   \n",
       "1376     False     False         True        False         False   \n",
       "\n",
       "      video_240fps  video_480fps  video_960fps  price(USD)  \n",
       "53           False         False         False       200.0  \n",
       "433          False         False          True       430.0  \n",
       "1376         False         False         False       150.0  \n",
       "\n",
       "[3 rows x 22 columns]"
      ]
     },
     "execution_count": 51,
     "metadata": {},
     "output_type": "execute_result"
    }
   ],
   "source": [
    "df[df['phone_name'] == 'V30']"
   ]
  },
  {
   "cell_type": "code",
   "execution_count": 52,
   "id": "7baaa480",
   "metadata": {
    "execution": {
     "iopub.execute_input": "2023-09-23T06:33:17.509225Z",
     "iopub.status.busy": "2023-09-23T06:33:17.508569Z",
     "iopub.status.idle": "2023-09-23T06:33:17.533618Z",
     "shell.execute_reply": "2023-09-23T06:33:17.532541Z"
    },
    "papermill": {
     "duration": 0.051791,
     "end_time": "2023-09-23T06:33:17.536053",
     "exception": false,
     "start_time": "2023-09-23T06:33:17.484262",
     "status": "completed"
    },
    "tags": []
   },
   "outputs": [
    {
     "data": {
      "text/html": [
       "<div>\n",
       "<style scoped>\n",
       "    .dataframe tbody tr th:only-of-type {\n",
       "        vertical-align: middle;\n",
       "    }\n",
       "\n",
       "    .dataframe tbody tr th {\n",
       "        vertical-align: top;\n",
       "    }\n",
       "\n",
       "    .dataframe thead th {\n",
       "        text-align: right;\n",
       "    }\n",
       "</style>\n",
       "<table border=\"1\" class=\"dataframe\">\n",
       "  <thead>\n",
       "    <tr style=\"text-align: right;\">\n",
       "      <th></th>\n",
       "      <th>phone_name</th>\n",
       "      <th>brand</th>\n",
       "      <th>os</th>\n",
       "      <th>inches</th>\n",
       "      <th>resolution</th>\n",
       "      <th>battery</th>\n",
       "      <th>battery_type</th>\n",
       "      <th>ram(GB)</th>\n",
       "      <th>announcement_date</th>\n",
       "      <th>weight(g)</th>\n",
       "      <th>...</th>\n",
       "      <th>video_1080p</th>\n",
       "      <th>video_4K</th>\n",
       "      <th>video_8K</th>\n",
       "      <th>video_30fps</th>\n",
       "      <th>video_60fps</th>\n",
       "      <th>video_120fps</th>\n",
       "      <th>video_240fps</th>\n",
       "      <th>video_480fps</th>\n",
       "      <th>video_960fps</th>\n",
       "      <th>price(USD)</th>\n",
       "    </tr>\n",
       "  </thead>\n",
       "  <tbody>\n",
       "    <tr>\n",
       "      <th>805</th>\n",
       "      <td>9</td>\n",
       "      <td>OnePlus</td>\n",
       "      <td>Android 11</td>\n",
       "      <td>6.55</td>\n",
       "      <td>1080x2400</td>\n",
       "      <td>4500</td>\n",
       "      <td>Li-Po</td>\n",
       "      <td>8</td>\n",
       "      <td>2021-03-23</td>\n",
       "      <td>192.0</td>\n",
       "      <td>...</td>\n",
       "      <td>True</td>\n",
       "      <td>True</td>\n",
       "      <td>True</td>\n",
       "      <td>True</td>\n",
       "      <td>True</td>\n",
       "      <td>True</td>\n",
       "      <td>True</td>\n",
       "      <td>False</td>\n",
       "      <td>False</td>\n",
       "      <td>304.20</td>\n",
       "    </tr>\n",
       "    <tr>\n",
       "      <th>1136</th>\n",
       "      <td>9</td>\n",
       "      <td>Realme</td>\n",
       "      <td>Android 12</td>\n",
       "      <td>6.40</td>\n",
       "      <td>1080x2400</td>\n",
       "      <td>5000</td>\n",
       "      <td>Li-Po</td>\n",
       "      <td>8</td>\n",
       "      <td>2022-04-07</td>\n",
       "      <td>178.0</td>\n",
       "      <td>...</td>\n",
       "      <td>True</td>\n",
       "      <td>False</td>\n",
       "      <td>False</td>\n",
       "      <td>True</td>\n",
       "      <td>False</td>\n",
       "      <td>False</td>\n",
       "      <td>False</td>\n",
       "      <td>False</td>\n",
       "      <td>False</td>\n",
       "      <td>249.96</td>\n",
       "    </tr>\n",
       "  </tbody>\n",
       "</table>\n",
       "<p>2 rows × 22 columns</p>\n",
       "</div>"
      ],
      "text/plain": [
       "     phone_name    brand          os  inches resolution  battery battery_type  \\\n",
       "805           9  OnePlus  Android 11    6.55  1080x2400     4500        Li-Po   \n",
       "1136          9   Realme  Android 12    6.40  1080x2400     5000        Li-Po   \n",
       "\n",
       "      ram(GB) announcement_date  weight(g)  ...  video_1080p  video_4K  \\\n",
       "805         8        2021-03-23      192.0  ...         True      True   \n",
       "1136        8        2022-04-07      178.0  ...         True     False   \n",
       "\n",
       "      video_8K  video_30fps  video_60fps  video_120fps  video_240fps  \\\n",
       "805       True         True         True          True          True   \n",
       "1136     False         True        False         False         False   \n",
       "\n",
       "      video_480fps  video_960fps  price(USD)  \n",
       "805          False         False      304.20  \n",
       "1136         False         False      249.96  \n",
       "\n",
       "[2 rows x 22 columns]"
      ]
     },
     "execution_count": 52,
     "metadata": {},
     "output_type": "execute_result"
    }
   ],
   "source": [
    "df[df['phone_name'] == '9']"
   ]
  },
  {
   "cell_type": "code",
   "execution_count": 53,
   "id": "c585e0b7",
   "metadata": {
    "execution": {
     "iopub.execute_input": "2023-09-23T06:33:17.584244Z",
     "iopub.status.busy": "2023-09-23T06:33:17.583844Z",
     "iopub.status.idle": "2023-09-23T06:33:17.609662Z",
     "shell.execute_reply": "2023-09-23T06:33:17.608143Z"
    },
    "papermill": {
     "duration": 0.052968,
     "end_time": "2023-09-23T06:33:17.612448",
     "exception": false,
     "start_time": "2023-09-23T06:33:17.559480",
     "status": "completed"
    },
    "tags": []
   },
   "outputs": [
    {
     "data": {
      "text/html": [
       "<div>\n",
       "<style scoped>\n",
       "    .dataframe tbody tr th:only-of-type {\n",
       "        vertical-align: middle;\n",
       "    }\n",
       "\n",
       "    .dataframe tbody tr th {\n",
       "        vertical-align: top;\n",
       "    }\n",
       "\n",
       "    .dataframe thead th {\n",
       "        text-align: right;\n",
       "    }\n",
       "</style>\n",
       "<table border=\"1\" class=\"dataframe\">\n",
       "  <thead>\n",
       "    <tr style=\"text-align: right;\">\n",
       "      <th></th>\n",
       "      <th>phone_name</th>\n",
       "      <th>brand</th>\n",
       "      <th>os</th>\n",
       "      <th>inches</th>\n",
       "      <th>resolution</th>\n",
       "      <th>battery</th>\n",
       "      <th>battery_type</th>\n",
       "      <th>ram(GB)</th>\n",
       "      <th>announcement_date</th>\n",
       "      <th>weight(g)</th>\n",
       "      <th>...</th>\n",
       "      <th>video_1080p</th>\n",
       "      <th>video_4K</th>\n",
       "      <th>video_8K</th>\n",
       "      <th>video_30fps</th>\n",
       "      <th>video_60fps</th>\n",
       "      <th>video_120fps</th>\n",
       "      <th>video_240fps</th>\n",
       "      <th>video_480fps</th>\n",
       "      <th>video_960fps</th>\n",
       "      <th>price(USD)</th>\n",
       "    </tr>\n",
       "  </thead>\n",
       "  <tbody>\n",
       "    <tr>\n",
       "      <th>151</th>\n",
       "      <td>6</td>\n",
       "      <td>OnePlus</td>\n",
       "      <td>Android 8.1</td>\n",
       "      <td>6.28</td>\n",
       "      <td>1080x2280</td>\n",
       "      <td>3300</td>\n",
       "      <td>Li-Po</td>\n",
       "      <td>8</td>\n",
       "      <td>2018-05-16</td>\n",
       "      <td>177.0</td>\n",
       "      <td>...</td>\n",
       "      <td>True</td>\n",
       "      <td>True</td>\n",
       "      <td>False</td>\n",
       "      <td>True</td>\n",
       "      <td>True</td>\n",
       "      <td>True</td>\n",
       "      <td>True</td>\n",
       "      <td>True</td>\n",
       "      <td>False</td>\n",
       "      <td>410.0</td>\n",
       "    </tr>\n",
       "    <tr>\n",
       "      <th>499</th>\n",
       "      <td>6</td>\n",
       "      <td>Realme</td>\n",
       "      <td>Android 10</td>\n",
       "      <td>6.50</td>\n",
       "      <td>1080x2400</td>\n",
       "      <td>4300</td>\n",
       "      <td>Li-Po</td>\n",
       "      <td>8</td>\n",
       "      <td>2020-03-05</td>\n",
       "      <td>191.0</td>\n",
       "      <td>...</td>\n",
       "      <td>True</td>\n",
       "      <td>True</td>\n",
       "      <td>False</td>\n",
       "      <td>True</td>\n",
       "      <td>False</td>\n",
       "      <td>True</td>\n",
       "      <td>False</td>\n",
       "      <td>False</td>\n",
       "      <td>False</td>\n",
       "      <td>190.0</td>\n",
       "    </tr>\n",
       "  </tbody>\n",
       "</table>\n",
       "<p>2 rows × 22 columns</p>\n",
       "</div>"
      ],
      "text/plain": [
       "    phone_name    brand           os  inches resolution  battery battery_type  \\\n",
       "151          6  OnePlus  Android 8.1    6.28  1080x2280     3300        Li-Po   \n",
       "499          6   Realme   Android 10    6.50  1080x2400     4300        Li-Po   \n",
       "\n",
       "     ram(GB) announcement_date  weight(g)  ...  video_1080p  video_4K  \\\n",
       "151        8        2018-05-16      177.0  ...         True      True   \n",
       "499        8        2020-03-05      191.0  ...         True      True   \n",
       "\n",
       "     video_8K  video_30fps  video_60fps  video_120fps  video_240fps  \\\n",
       "151     False         True         True          True          True   \n",
       "499     False         True        False          True         False   \n",
       "\n",
       "     video_480fps  video_960fps  price(USD)  \n",
       "151          True         False       410.0  \n",
       "499         False         False       190.0  \n",
       "\n",
       "[2 rows x 22 columns]"
      ]
     },
     "execution_count": 53,
     "metadata": {},
     "output_type": "execute_result"
    }
   ],
   "source": [
    "df[df['phone_name'] == '6']"
   ]
  },
  {
   "cell_type": "markdown",
   "id": "6493d128",
   "metadata": {
    "papermill": {
     "duration": 0.02269,
     "end_time": "2023-09-23T06:33:17.658320",
     "exception": false,
     "start_time": "2023-09-23T06:33:17.635630",
     "status": "completed"
    },
    "tags": []
   },
   "source": [
    "there are many brands has a same mobile name."
   ]
  },
  {
   "cell_type": "markdown",
   "id": "4a9584d7",
   "metadata": {},
   "source": [
    "feature extraction,we can split resolution column to width and height"
   ]
  },
  {
   "cell_type": "code",
   "execution_count": 54,
   "id": "c60cfef8",
   "metadata": {
    "execution": {
     "iopub.execute_input": "2023-09-23T06:33:17.797498Z",
     "iopub.status.busy": "2023-09-23T06:33:17.797141Z",
     "iopub.status.idle": "2023-09-23T06:33:17.808586Z",
     "shell.execute_reply": "2023-09-23T06:33:17.807349Z"
    },
    "papermill": {
     "duration": 0.03815,
     "end_time": "2023-09-23T06:33:17.811101",
     "exception": false,
     "start_time": "2023-09-23T06:33:17.772951",
     "status": "completed"
    },
    "tags": []
   },
   "outputs": [
    {
     "data": {
      "text/plain": [
       "0        720\n",
       "1        720\n",
       "2       1080\n",
       "3       1080\n",
       "4       1080\n",
       "        ... \n",
       "1507    1080\n",
       "1508    1080\n",
       "1509    1240\n",
       "1510    1240\n",
       "1511    1080\n",
       "Name: width, Length: 1512, dtype: int64"
      ]
     },
     "execution_count": 54,
     "metadata": {},
     "output_type": "execute_result"
    }
   ],
   "source": [
    "df['width'] = df['resolution'].apply(lambda x: x.split('x')[0]).astype('int64')\n",
    "df['width']"
   ]
  },
  {
   "cell_type": "code",
   "execution_count": 55,
   "id": "70fe50b7",
   "metadata": {
    "execution": {
     "iopub.execute_input": "2023-09-23T06:33:17.859345Z",
     "iopub.status.busy": "2023-09-23T06:33:17.858981Z",
     "iopub.status.idle": "2023-09-23T06:33:17.870056Z",
     "shell.execute_reply": "2023-09-23T06:33:17.869116Z"
    },
    "papermill": {
     "duration": 0.038,
     "end_time": "2023-09-23T06:33:17.872214",
     "exception": false,
     "start_time": "2023-09-23T06:33:17.834214",
     "status": "completed"
    },
    "tags": []
   },
   "outputs": [
    {
     "data": {
      "text/plain": [
       "0       1280\n",
       "1       1280\n",
       "2       1920\n",
       "3       1920\n",
       "4       1920\n",
       "        ... \n",
       "1507    2388\n",
       "1508    2400\n",
       "1509    2772\n",
       "1510    2772\n",
       "1511    2400\n",
       "Name: height, Length: 1512, dtype: int64"
      ]
     },
     "execution_count": 55,
     "metadata": {},
     "output_type": "execute_result"
    }
   ],
   "source": [
    "df['height'] = df['resolution'].apply(lambda x: x.split('x')[1]).astype('int64')\n",
    "df['height']"
   ]
  },
  {
   "cell_type": "markdown",
   "id": "4f38e513",
   "metadata": {
    "papermill": {
     "duration": 0.022979,
     "end_time": "2023-09-23T06:33:17.918294",
     "exception": false,
     "start_time": "2023-09-23T06:33:17.895315",
     "status": "completed"
    },
    "tags": []
   },
   "source": [
    "we can extract announcement_year column from announcement_date column\t"
   ]
  },
  {
   "cell_type": "code",
   "execution_count": 56,
   "id": "1861487d",
   "metadata": {
    "execution": {
     "iopub.execute_input": "2023-09-23T06:33:17.966362Z",
     "iopub.status.busy": "2023-09-23T06:33:17.965964Z",
     "iopub.status.idle": "2023-09-23T06:33:17.974381Z",
     "shell.execute_reply": "2023-09-23T06:33:17.973158Z"
    },
    "papermill": {
     "duration": 0.035368,
     "end_time": "2023-09-23T06:33:17.976831",
     "exception": false,
     "start_time": "2023-09-23T06:33:17.941463",
     "status": "completed"
    },
    "tags": []
   },
   "outputs": [],
   "source": [
    "df['announcement_year'] = df['announcement_date'].apply(lambda x: x.split('-')[0]).astype('int32')"
   ]
  },
  {
   "cell_type": "code",
   "execution_count": 57,
   "id": "67df587c",
   "metadata": {
    "execution": {
     "iopub.execute_input": "2023-09-23T06:33:18.025070Z",
     "iopub.status.busy": "2023-09-23T06:33:18.024653Z",
     "iopub.status.idle": "2023-09-23T06:33:18.035030Z",
     "shell.execute_reply": "2023-09-23T06:33:18.033941Z"
    },
    "papermill": {
     "duration": 0.037108,
     "end_time": "2023-09-23T06:33:18.037296",
     "exception": false,
     "start_time": "2023-09-23T06:33:18.000188",
     "status": "completed"
    },
    "tags": []
   },
   "outputs": [
    {
     "data": {
      "text/plain": [
       "2022    319\n",
       "2020    294\n",
       "2021    288\n",
       "2019    210\n",
       "2023    159\n",
       "2018    155\n",
       "2017     85\n",
       "2016      2\n",
       "Name: announcement_year, dtype: int64"
      ]
     },
     "execution_count": 57,
     "metadata": {},
     "output_type": "execute_result"
    }
   ],
   "source": [
    "df['announcement_year'].value_counts()"
   ]
  },
  {
   "cell_type": "markdown",
   "id": "b737eac8",
   "metadata": {
    "papermill": {
     "duration": 0.023318,
     "end_time": "2023-09-23T06:33:18.084234",
     "exception": false,
     "start_time": "2023-09-23T06:33:18.060916",
     "status": "completed"
    },
    "tags": []
   },
   "source": [
    "we can drop announcement_date and resolution columns"
   ]
  },
  {
   "cell_type": "code",
   "execution_count": 58,
   "id": "268bf6a8",
   "metadata": {
    "execution": {
     "iopub.execute_input": "2023-09-23T06:33:18.133928Z",
     "iopub.status.busy": "2023-09-23T06:33:18.133486Z",
     "iopub.status.idle": "2023-09-23T06:33:18.142045Z",
     "shell.execute_reply": "2023-09-23T06:33:18.140787Z"
    },
    "papermill": {
     "duration": 0.036852,
     "end_time": "2023-09-23T06:33:18.144714",
     "exception": false,
     "start_time": "2023-09-23T06:33:18.107862",
     "status": "completed"
    },
    "tags": []
   },
   "outputs": [],
   "source": [
    "df.drop(columns = ['announcement_date', 'resolution'], inplace = True)"
   ]
  },
  {
   "cell_type": "code",
   "execution_count": 88,
   "id": "99e06b6b",
   "metadata": {},
   "outputs": [
    {
     "data": {
      "text/plain": [
       "(1500, 23)"
      ]
     },
     "execution_count": 88,
     "metadata": {},
     "output_type": "execute_result"
    }
   ],
   "source": [
    "df.shape"
   ]
  },
  {
   "cell_type": "markdown",
   "id": "7c1d9b4e",
   "metadata": {},
   "source": [
    "Dealing with Outlirs"
   ]
  },
  {
   "cell_type": "code",
   "execution_count": 59,
   "id": "14e42e7a",
   "metadata": {
    "execution": {
     "iopub.execute_input": "2023-09-23T06:33:18.239716Z",
     "iopub.status.busy": "2023-09-23T06:33:18.239304Z",
     "iopub.status.idle": "2023-09-23T06:33:18.284224Z",
     "shell.execute_reply": "2023-09-23T06:33:18.282959Z"
    },
    "papermill": {
     "duration": 0.071885,
     "end_time": "2023-09-23T06:33:18.286687",
     "exception": false,
     "start_time": "2023-09-23T06:33:18.214802",
     "status": "completed"
    },
    "tags": []
   },
   "outputs": [
    {
     "data": {
      "text/html": [
       "<div>\n",
       "<style scoped>\n",
       "    .dataframe tbody tr th:only-of-type {\n",
       "        vertical-align: middle;\n",
       "    }\n",
       "\n",
       "    .dataframe tbody tr th {\n",
       "        vertical-align: top;\n",
       "    }\n",
       "\n",
       "    .dataframe thead th {\n",
       "        text-align: right;\n",
       "    }\n",
       "</style>\n",
       "<table border=\"1\" class=\"dataframe\">\n",
       "  <thead>\n",
       "    <tr style=\"text-align: right;\">\n",
       "      <th></th>\n",
       "      <th>inches</th>\n",
       "      <th>battery</th>\n",
       "      <th>ram(GB)</th>\n",
       "      <th>weight(g)</th>\n",
       "      <th>storage(GB)</th>\n",
       "      <th>price(USD)</th>\n",
       "      <th>width</th>\n",
       "      <th>height</th>\n",
       "      <th>announcement_year</th>\n",
       "    </tr>\n",
       "  </thead>\n",
       "  <tbody>\n",
       "    <tr>\n",
       "      <th>count</th>\n",
       "      <td>1512.000000</td>\n",
       "      <td>1512.000000</td>\n",
       "      <td>1512.000000</td>\n",
       "      <td>1512.000000</td>\n",
       "      <td>1512.000000</td>\n",
       "      <td>1512.000000</td>\n",
       "      <td>1512.000000</td>\n",
       "      <td>1512.000000</td>\n",
       "      <td>1512.000000</td>\n",
       "    </tr>\n",
       "    <tr>\n",
       "      <th>mean</th>\n",
       "      <td>6.422460</td>\n",
       "      <td>4389.798942</td>\n",
       "      <td>6.683862</td>\n",
       "      <td>187.636243</td>\n",
       "      <td>109.164683</td>\n",
       "      <td>337.847036</td>\n",
       "      <td>1035.212963</td>\n",
       "      <td>2207.190476</td>\n",
       "      <td>2020.410053</td>\n",
       "    </tr>\n",
       "    <tr>\n",
       "      <th>std</th>\n",
       "      <td>0.477043</td>\n",
       "      <td>784.607022</td>\n",
       "      <td>2.701433</td>\n",
       "      <td>26.200115</td>\n",
       "      <td>74.436484</td>\n",
       "      <td>266.740821</td>\n",
       "      <td>253.488940</td>\n",
       "      <td>469.734578</td>\n",
       "      <td>1.700190</td>\n",
       "    </tr>\n",
       "    <tr>\n",
       "      <th>min</th>\n",
       "      <td>3.800000</td>\n",
       "      <td>1821.000000</td>\n",
       "      <td>1.000000</td>\n",
       "      <td>130.000000</td>\n",
       "      <td>1.000000</td>\n",
       "      <td>40.000000</td>\n",
       "      <td>480.000000</td>\n",
       "      <td>800.000000</td>\n",
       "      <td>2016.000000</td>\n",
       "    </tr>\n",
       "    <tr>\n",
       "      <th>25%</th>\n",
       "      <td>6.300000</td>\n",
       "      <td>4000.000000</td>\n",
       "      <td>4.000000</td>\n",
       "      <td>175.000000</td>\n",
       "      <td>64.000000</td>\n",
       "      <td>179.997500</td>\n",
       "      <td>720.000000</td>\n",
       "      <td>1647.500000</td>\n",
       "      <td>2019.000000</td>\n",
       "    </tr>\n",
       "    <tr>\n",
       "      <th>50%</th>\n",
       "      <td>6.500000</td>\n",
       "      <td>4500.000000</td>\n",
       "      <td>8.000000</td>\n",
       "      <td>187.000000</td>\n",
       "      <td>128.000000</td>\n",
       "      <td>260.000000</td>\n",
       "      <td>1080.000000</td>\n",
       "      <td>2400.000000</td>\n",
       "      <td>2021.000000</td>\n",
       "    </tr>\n",
       "    <tr>\n",
       "      <th>75%</th>\n",
       "      <td>6.670000</td>\n",
       "      <td>5000.000000</td>\n",
       "      <td>8.000000</td>\n",
       "      <td>197.250000</td>\n",
       "      <td>128.000000</td>\n",
       "      <td>400.000000</td>\n",
       "      <td>1080.000000</td>\n",
       "      <td>2400.000000</td>\n",
       "      <td>2022.000000</td>\n",
       "    </tr>\n",
       "    <tr>\n",
       "      <th>max</th>\n",
       "      <td>10.400000</td>\n",
       "      <td>7250.000000</td>\n",
       "      <td>24.000000</td>\n",
       "      <td>500.000000</td>\n",
       "      <td>512.000000</td>\n",
       "      <td>2300.000000</td>\n",
       "      <td>3840.000000</td>\n",
       "      <td>3840.000000</td>\n",
       "      <td>2023.000000</td>\n",
       "    </tr>\n",
       "  </tbody>\n",
       "</table>\n",
       "</div>"
      ],
      "text/plain": [
       "            inches      battery      ram(GB)    weight(g)  storage(GB)  \\\n",
       "count  1512.000000  1512.000000  1512.000000  1512.000000  1512.000000   \n",
       "mean      6.422460  4389.798942     6.683862   187.636243   109.164683   \n",
       "std       0.477043   784.607022     2.701433    26.200115    74.436484   \n",
       "min       3.800000  1821.000000     1.000000   130.000000     1.000000   \n",
       "25%       6.300000  4000.000000     4.000000   175.000000    64.000000   \n",
       "50%       6.500000  4500.000000     8.000000   187.000000   128.000000   \n",
       "75%       6.670000  5000.000000     8.000000   197.250000   128.000000   \n",
       "max      10.400000  7250.000000    24.000000   500.000000   512.000000   \n",
       "\n",
       "        price(USD)        width       height  announcement_year  \n",
       "count  1512.000000  1512.000000  1512.000000        1512.000000  \n",
       "mean    337.847036  1035.212963  2207.190476        2020.410053  \n",
       "std     266.740821   253.488940   469.734578           1.700190  \n",
       "min      40.000000   480.000000   800.000000        2016.000000  \n",
       "25%     179.997500   720.000000  1647.500000        2019.000000  \n",
       "50%     260.000000  1080.000000  2400.000000        2021.000000  \n",
       "75%     400.000000  1080.000000  2400.000000        2022.000000  \n",
       "max    2300.000000  3840.000000  3840.000000        2023.000000  "
      ]
     },
     "execution_count": 59,
     "metadata": {},
     "output_type": "execute_result"
    }
   ],
   "source": [
    "df.describe()"
   ]
  },
  {
   "cell_type": "markdown",
   "id": "5c025259",
   "metadata": {
    "papermill": {
     "duration": 0.02447,
     "end_time": "2023-09-23T06:33:18.335025",
     "exception": false,
     "start_time": "2023-09-23T06:33:18.310555",
     "status": "completed"
    },
    "tags": []
   },
   "source": [
    "it seems that weight(g), storage(GB) and price(USD) columns have outliers\n"
   ]
  },
  {
   "cell_type": "code",
   "execution_count": 60,
   "id": "a7b9e9fa",
   "metadata": {
    "execution": {
     "iopub.execute_input": "2023-09-23T06:33:18.384240Z",
     "iopub.status.busy": "2023-09-23T06:33:18.383815Z",
     "iopub.status.idle": "2023-09-23T06:33:18.688120Z",
     "shell.execute_reply": "2023-09-23T06:33:18.686657Z"
    },
    "papermill": {
     "duration": 0.331875,
     "end_time": "2023-09-23T06:33:18.690582",
     "exception": false,
     "start_time": "2023-09-23T06:33:18.358707",
     "status": "completed"
    },
    "tags": []
   },
   "outputs": [
    {
     "data": {
      "text/plain": [
       "<Axes: >"
      ]
     },
     "execution_count": 60,
     "metadata": {},
     "output_type": "execute_result"
    },
    {
     "data": {
      "image/png": "[encoded data removed]",
      "text/plain": [
       "<Figure size 640x480 with 1 Axes>"
      ]
     },
     "metadata": {},
     "output_type": "display_data"
    }
   ],
   "source": [
    "df.boxplot(['weight(g)'])"
   ]
  },
  {
   "cell_type": "code",
   "execution_count": 61,
   "id": "66f94154",
   "metadata": {
    "execution": {
     "iopub.execute_input": "2023-09-23T06:33:18.740919Z",
     "iopub.status.busy": "2023-09-23T06:33:18.740484Z",
     "iopub.status.idle": "2023-09-23T06:33:18.767477Z",
     "shell.execute_reply": "2023-09-23T06:33:18.766625Z"
    },
    "papermill": {
     "duration": 0.054885,
     "end_time": "2023-09-23T06:33:18.769771",
     "exception": false,
     "start_time": "2023-09-23T06:33:18.714886",
     "status": "completed"
    },
    "tags": []
   },
   "outputs": [
    {
     "data": {
      "text/html": [
       "<div>\n",
       "<style scoped>\n",
       "    .dataframe tbody tr th:only-of-type {\n",
       "        vertical-align: middle;\n",
       "    }\n",
       "\n",
       "    .dataframe tbody tr th {\n",
       "        vertical-align: top;\n",
       "    }\n",
       "\n",
       "    .dataframe thead th {\n",
       "        text-align: right;\n",
       "    }\n",
       "</style>\n",
       "<table border=\"1\" class=\"dataframe\">\n",
       "  <thead>\n",
       "    <tr style=\"text-align: right;\">\n",
       "      <th></th>\n",
       "      <th>phone_name</th>\n",
       "      <th>brand</th>\n",
       "      <th>os</th>\n",
       "      <th>inches</th>\n",
       "      <th>battery</th>\n",
       "      <th>battery_type</th>\n",
       "      <th>ram(GB)</th>\n",
       "      <th>weight(g)</th>\n",
       "      <th>storage(GB)</th>\n",
       "      <th>video_720p</th>\n",
       "      <th>...</th>\n",
       "      <th>video_30fps</th>\n",
       "      <th>video_60fps</th>\n",
       "      <th>video_120fps</th>\n",
       "      <th>video_240fps</th>\n",
       "      <th>video_480fps</th>\n",
       "      <th>video_960fps</th>\n",
       "      <th>price(USD)</th>\n",
       "      <th>width</th>\n",
       "      <th>height</th>\n",
       "      <th>announcement_year</th>\n",
       "    </tr>\n",
       "  </thead>\n",
       "  <tbody>\n",
       "    <tr>\n",
       "      <th>78</th>\n",
       "      <td>moto tab</td>\n",
       "      <td>Lenovo</td>\n",
       "      <td>Android 7.0</td>\n",
       "      <td>10.1</td>\n",
       "      <td>7000</td>\n",
       "      <td>Li-Ion</td>\n",
       "      <td>2</td>\n",
       "      <td>500.0</td>\n",
       "      <td>32</td>\n",
       "      <td>False</td>\n",
       "      <td>...</td>\n",
       "      <td>True</td>\n",
       "      <td>False</td>\n",
       "      <td>False</td>\n",
       "      <td>False</td>\n",
       "      <td>False</td>\n",
       "      <td>False</td>\n",
       "      <td>170.0</td>\n",
       "      <td>1200</td>\n",
       "      <td>1920</td>\n",
       "      <td>2017</td>\n",
       "    </tr>\n",
       "    <tr>\n",
       "      <th>516</th>\n",
       "      <td>M10 Plus</td>\n",
       "      <td>Lenovo</td>\n",
       "      <td>Android 9.0</td>\n",
       "      <td>10.3</td>\n",
       "      <td>5000</td>\n",
       "      <td>Li-Po</td>\n",
       "      <td>4</td>\n",
       "      <td>460.0</td>\n",
       "      <td>32</td>\n",
       "      <td>False</td>\n",
       "      <td>...</td>\n",
       "      <td>True</td>\n",
       "      <td>False</td>\n",
       "      <td>False</td>\n",
       "      <td>False</td>\n",
       "      <td>False</td>\n",
       "      <td>False</td>\n",
       "      <td>180.0</td>\n",
       "      <td>1200</td>\n",
       "      <td>1920</td>\n",
       "      <td>2020</td>\n",
       "    </tr>\n",
       "    <tr>\n",
       "      <th>573</th>\n",
       "      <td>V6</td>\n",
       "      <td>Honor</td>\n",
       "      <td>Android 10</td>\n",
       "      <td>10.4</td>\n",
       "      <td>7250</td>\n",
       "      <td>Li-Po</td>\n",
       "      <td>8</td>\n",
       "      <td>480.0</td>\n",
       "      <td>64</td>\n",
       "      <td>False</td>\n",
       "      <td>...</td>\n",
       "      <td>True</td>\n",
       "      <td>False</td>\n",
       "      <td>False</td>\n",
       "      <td>False</td>\n",
       "      <td>False</td>\n",
       "      <td>False</td>\n",
       "      <td>280.0</td>\n",
       "      <td>1200</td>\n",
       "      <td>2000</td>\n",
       "      <td>2020</td>\n",
       "    </tr>\n",
       "  </tbody>\n",
       "</table>\n",
       "<p>3 rows × 23 columns</p>\n",
       "</div>"
      ],
      "text/plain": [
       "    phone_name   brand           os  inches  battery battery_type  ram(GB)  \\\n",
       "78    moto tab  Lenovo  Android 7.0    10.1     7000       Li-Ion        2   \n",
       "516   M10 Plus  Lenovo  Android 9.0    10.3     5000        Li-Po        4   \n",
       "573         V6   Honor   Android 10    10.4     7250        Li-Po        8   \n",
       "\n",
       "     weight(g)  storage(GB)  video_720p  ...  video_30fps  video_60fps  \\\n",
       "78       500.0           32       False  ...         True        False   \n",
       "516      460.0           32       False  ...         True        False   \n",
       "573      480.0           64       False  ...         True        False   \n",
       "\n",
       "     video_120fps  video_240fps  video_480fps  video_960fps  price(USD)  \\\n",
       "78          False         False         False         False       170.0   \n",
       "516         False         False         False         False       180.0   \n",
       "573         False         False         False         False       280.0   \n",
       "\n",
       "     width  height  announcement_year  \n",
       "78    1200    1920               2017  \n",
       "516   1200    1920               2020  \n",
       "573   1200    2000               2020  \n",
       "\n",
       "[3 rows x 23 columns]"
      ]
     },
     "execution_count": 61,
     "metadata": {},
     "output_type": "execute_result"
    }
   ],
   "source": [
    "Outliers_W= df[df['weight(g)']> 450]\n",
    "Outliers_W"
   ]
  },
  {
   "cell_type": "markdown",
   "id": "e0d961e8",
   "metadata": {
    "papermill": {
     "duration": 0.024755,
     "end_time": "2023-09-23T06:33:18.819297",
     "exception": false,
     "start_time": "2023-09-23T06:33:18.794542",
     "status": "completed"
    },
    "tags": []
   },
   "source": [
    "we can remove these 3 rows"
   ]
  },
  {
   "cell_type": "code",
   "execution_count": 62,
   "id": "6901e29c",
   "metadata": {
    "execution": {
     "iopub.execute_input": "2023-09-23T06:33:18.870883Z",
     "iopub.status.busy": "2023-09-23T06:33:18.870456Z",
     "iopub.status.idle": "2023-09-23T06:33:18.876387Z",
     "shell.execute_reply": "2023-09-23T06:33:18.875597Z"
    },
    "papermill": {
     "duration": 0.034533,
     "end_time": "2023-09-23T06:33:18.878581",
     "exception": false,
     "start_time": "2023-09-23T06:33:18.844048",
     "status": "completed"
    },
    "tags": []
   },
   "outputs": [],
   "source": [
    "df.drop(Outliers_W.index, inplace = True, axis = 0)\n",
    "df.reset_index(drop = True, inplace= True)"
   ]
  },
  {
   "cell_type": "code",
   "execution_count": 64,
   "id": "84d60e9c",
   "metadata": {
    "execution": {
     "iopub.execute_input": "2023-09-23T06:33:18.979799Z",
     "iopub.status.busy": "2023-09-23T06:33:18.979364Z",
     "iopub.status.idle": "2023-09-23T06:33:19.002938Z",
     "shell.execute_reply": "2023-09-23T06:33:19.002006Z"
    },
    "papermill": {
     "duration": 0.051817,
     "end_time": "2023-09-23T06:33:19.005132",
     "exception": false,
     "start_time": "2023-09-23T06:33:18.953315",
     "status": "completed"
    },
    "tags": []
   },
   "outputs": [
    {
     "data": {
      "text/html": [
       "<div>\n",
       "<style scoped>\n",
       "    .dataframe tbody tr th:only-of-type {\n",
       "        vertical-align: middle;\n",
       "    }\n",
       "\n",
       "    .dataframe tbody tr th {\n",
       "        vertical-align: top;\n",
       "    }\n",
       "\n",
       "    .dataframe thead th {\n",
       "        text-align: right;\n",
       "    }\n",
       "</style>\n",
       "<table border=\"1\" class=\"dataframe\">\n",
       "  <thead>\n",
       "    <tr style=\"text-align: right;\">\n",
       "      <th></th>\n",
       "      <th>phone_name</th>\n",
       "      <th>brand</th>\n",
       "      <th>os</th>\n",
       "      <th>inches</th>\n",
       "      <th>battery</th>\n",
       "      <th>battery_type</th>\n",
       "      <th>ram(GB)</th>\n",
       "      <th>weight(g)</th>\n",
       "      <th>storage(GB)</th>\n",
       "      <th>video_720p</th>\n",
       "      <th>...</th>\n",
       "      <th>video_30fps</th>\n",
       "      <th>video_60fps</th>\n",
       "      <th>video_120fps</th>\n",
       "      <th>video_240fps</th>\n",
       "      <th>video_480fps</th>\n",
       "      <th>video_960fps</th>\n",
       "      <th>price(USD)</th>\n",
       "      <th>width</th>\n",
       "      <th>height</th>\n",
       "      <th>announcement_year</th>\n",
       "    </tr>\n",
       "  </thead>\n",
       "  <tbody>\n",
       "    <tr>\n",
       "      <th>1507</th>\n",
       "      <td>GT5 240W</td>\n",
       "      <td>Realme</td>\n",
       "      <td>Android 13</td>\n",
       "      <td>6.74</td>\n",
       "      <td>4600</td>\n",
       "      <td>Li-Po</td>\n",
       "      <td>24</td>\n",
       "      <td>205.0</td>\n",
       "      <td>1</td>\n",
       "      <td>True</td>\n",
       "      <td>...</td>\n",
       "      <td>False</td>\n",
       "      <td>True</td>\n",
       "      <td>False</td>\n",
       "      <td>False</td>\n",
       "      <td>False</td>\n",
       "      <td>False</td>\n",
       "      <td>470.0</td>\n",
       "      <td>1240</td>\n",
       "      <td>2772</td>\n",
       "      <td>2023</td>\n",
       "    </tr>\n",
       "  </tbody>\n",
       "</table>\n",
       "<p>1 rows × 23 columns</p>\n",
       "</div>"
      ],
      "text/plain": [
       "     phone_name   brand          os  inches  battery battery_type  ram(GB)  \\\n",
       "1507   GT5 240W  Realme  Android 13    6.74     4600        Li-Po       24   \n",
       "\n",
       "      weight(g)  storage(GB)  video_720p  ...  video_30fps  video_60fps  \\\n",
       "1507      205.0            1        True  ...        False         True   \n",
       "\n",
       "      video_120fps  video_240fps  video_480fps  video_960fps  price(USD)  \\\n",
       "1507         False         False         False         False       470.0   \n",
       "\n",
       "      width  height  announcement_year  \n",
       "1507   1240    2772               2023  \n",
       "\n",
       "[1 rows x 23 columns]"
      ]
     },
     "execution_count": 64,
     "metadata": {},
     "output_type": "execute_result"
    }
   ],
   "source": [
    "\n",
    "df[df['storage(GB)']== 1]"
   ]
  },
  {
   "cell_type": "code",
   "execution_count": 65,
   "id": "ea4fc0ac",
   "metadata": {
    "execution": {
     "iopub.execute_input": "2023-09-23T06:33:19.115412Z",
     "iopub.status.busy": "2023-09-23T06:33:19.114213Z",
     "iopub.status.idle": "2023-09-23T06:33:19.119892Z",
     "shell.execute_reply": "2023-09-23T06:33:19.118979Z"
    },
    "papermill": {
     "duration": 0.042345,
     "end_time": "2023-09-23T06:33:19.122658",
     "exception": false,
     "start_time": "2023-09-23T06:33:19.080313",
     "status": "completed"
    },
    "tags": []
   },
   "outputs": [],
   "source": [
    "df.iloc[1507,8] = 1024"
   ]
  },
  {
   "cell_type": "markdown",
   "id": "5e6f6b00",
   "metadata": {},
   "source": [
    "it is the only phone has 1 tera bite storage or 1024 GB"
   ]
  },
  {
   "cell_type": "code",
   "execution_count": 66,
   "id": "efe32f4c",
   "metadata": {
    "execution": {
     "iopub.execute_input": "2023-09-23T06:33:19.182012Z",
     "iopub.status.busy": "2023-09-23T06:33:19.181572Z",
     "iopub.status.idle": "2023-09-23T06:33:19.436046Z",
     "shell.execute_reply": "2023-09-23T06:33:19.434570Z"
    },
    "papermill": {
     "duration": 0.284101,
     "end_time": "2023-09-23T06:33:19.438820",
     "exception": false,
     "start_time": "2023-09-23T06:33:19.154719",
     "status": "completed"
    },
    "tags": []
   },
   "outputs": [
    {
     "data": {
      "text/plain": [
       "<Axes: >"
      ]
     },
     "execution_count": 66,
     "metadata": {},
     "output_type": "execute_result"
    },
    {
     "data": {
      "image/png": "[encoded data removed]",
      "text/plain": [
       "<Figure size 640x480 with 1 Axes>"
      ]
     },
     "metadata": {},
     "output_type": "display_data"
    }
   ],
   "source": [
    "df.boxplot(['price(USD)'])"
   ]
  },
  {
   "cell_type": "code",
   "execution_count": 67,
   "id": "984b0f12",
   "metadata": {
    "execution": {
     "iopub.execute_input": "2023-09-23T06:33:19.497070Z",
     "iopub.status.busy": "2023-09-23T06:33:19.496374Z",
     "iopub.status.idle": "2023-09-23T06:33:19.531258Z",
     "shell.execute_reply": "2023-09-23T06:33:19.529767Z"
    },
    "papermill": {
     "duration": 0.069456,
     "end_time": "2023-09-23T06:33:19.534234",
     "exception": false,
     "start_time": "2023-09-23T06:33:19.464778",
     "status": "completed"
    },
    "tags": []
   },
   "outputs": [
    {
     "data": {
      "text/html": [
       "<div>\n",
       "<style scoped>\n",
       "    .dataframe tbody tr th:only-of-type {\n",
       "        vertical-align: middle;\n",
       "    }\n",
       "\n",
       "    .dataframe tbody tr th {\n",
       "        vertical-align: top;\n",
       "    }\n",
       "\n",
       "    .dataframe thead th {\n",
       "        text-align: right;\n",
       "    }\n",
       "</style>\n",
       "<table border=\"1\" class=\"dataframe\">\n",
       "  <thead>\n",
       "    <tr style=\"text-align: right;\">\n",
       "      <th></th>\n",
       "      <th>phone_name</th>\n",
       "      <th>brand</th>\n",
       "      <th>os</th>\n",
       "      <th>inches</th>\n",
       "      <th>battery</th>\n",
       "      <th>battery_type</th>\n",
       "      <th>ram(GB)</th>\n",
       "      <th>weight(g)</th>\n",
       "      <th>storage(GB)</th>\n",
       "      <th>video_720p</th>\n",
       "      <th>...</th>\n",
       "      <th>video_30fps</th>\n",
       "      <th>video_60fps</th>\n",
       "      <th>video_120fps</th>\n",
       "      <th>video_240fps</th>\n",
       "      <th>video_480fps</th>\n",
       "      <th>video_960fps</th>\n",
       "      <th>price(USD)</th>\n",
       "      <th>width</th>\n",
       "      <th>height</th>\n",
       "      <th>announcement_year</th>\n",
       "    </tr>\n",
       "  </thead>\n",
       "  <tbody>\n",
       "    <tr>\n",
       "      <th>378</th>\n",
       "      <td>Galaxy M10s</td>\n",
       "      <td>Samsung</td>\n",
       "      <td>Android 9.0</td>\n",
       "      <td>6.40</td>\n",
       "      <td>4000</td>\n",
       "      <td>Li-Ion</td>\n",
       "      <td>3</td>\n",
       "      <td>169.0</td>\n",
       "      <td>32</td>\n",
       "      <td>False</td>\n",
       "      <td>...</td>\n",
       "      <td>True</td>\n",
       "      <td>False</td>\n",
       "      <td>False</td>\n",
       "      <td>False</td>\n",
       "      <td>False</td>\n",
       "      <td>False</td>\n",
       "      <td>1750.00</td>\n",
       "      <td>720</td>\n",
       "      <td>1560</td>\n",
       "      <td>2019</td>\n",
       "    </tr>\n",
       "    <tr>\n",
       "      <th>420</th>\n",
       "      <td>nova 5z</td>\n",
       "      <td>Huawei</td>\n",
       "      <td>Android 9.0</td>\n",
       "      <td>6.26</td>\n",
       "      <td>4000</td>\n",
       "      <td>Li-Po</td>\n",
       "      <td>6</td>\n",
       "      <td>178.0</td>\n",
       "      <td>64</td>\n",
       "      <td>True</td>\n",
       "      <td>...</td>\n",
       "      <td>True</td>\n",
       "      <td>False</td>\n",
       "      <td>False</td>\n",
       "      <td>False</td>\n",
       "      <td>False</td>\n",
       "      <td>False</td>\n",
       "      <td>1700.00</td>\n",
       "      <td>1080</td>\n",
       "      <td>2340</td>\n",
       "      <td>2019</td>\n",
       "    </tr>\n",
       "    <tr>\n",
       "      <th>441</th>\n",
       "      <td>nova 6 5G</td>\n",
       "      <td>Huawei</td>\n",
       "      <td>Android 10</td>\n",
       "      <td>6.57</td>\n",
       "      <td>4200</td>\n",
       "      <td>Li-Po</td>\n",
       "      <td>8</td>\n",
       "      <td>212.0</td>\n",
       "      <td>128</td>\n",
       "      <td>True</td>\n",
       "      <td>...</td>\n",
       "      <td>True</td>\n",
       "      <td>True</td>\n",
       "      <td>False</td>\n",
       "      <td>False</td>\n",
       "      <td>False</td>\n",
       "      <td>True</td>\n",
       "      <td>2150.00</td>\n",
       "      <td>1080</td>\n",
       "      <td>2400</td>\n",
       "      <td>2019</td>\n",
       "    </tr>\n",
       "    <tr>\n",
       "      <th>486</th>\n",
       "      <td>Xperia Pro</td>\n",
       "      <td>Sony</td>\n",
       "      <td>Android 10</td>\n",
       "      <td>6.50</td>\n",
       "      <td>4000</td>\n",
       "      <td>Li-Po</td>\n",
       "      <td>12</td>\n",
       "      <td>225.0</td>\n",
       "      <td>512</td>\n",
       "      <td>True</td>\n",
       "      <td>...</td>\n",
       "      <td>False</td>\n",
       "      <td>True</td>\n",
       "      <td>True</td>\n",
       "      <td>False</td>\n",
       "      <td>False</td>\n",
       "      <td>False</td>\n",
       "      <td>2000.00</td>\n",
       "      <td>1644</td>\n",
       "      <td>3840</td>\n",
       "      <td>2020</td>\n",
       "    </tr>\n",
       "    <tr>\n",
       "      <th>491</th>\n",
       "      <td>P40 lite</td>\n",
       "      <td>Huawei</td>\n",
       "      <td>Android 10</td>\n",
       "      <td>6.40</td>\n",
       "      <td>4200</td>\n",
       "      <td>Li-Po</td>\n",
       "      <td>8</td>\n",
       "      <td>183.0</td>\n",
       "      <td>128</td>\n",
       "      <td>False</td>\n",
       "      <td>...</td>\n",
       "      <td>True</td>\n",
       "      <td>False</td>\n",
       "      <td>False</td>\n",
       "      <td>False</td>\n",
       "      <td>False</td>\n",
       "      <td>False</td>\n",
       "      <td>1950.00</td>\n",
       "      <td>1080</td>\n",
       "      <td>2310</td>\n",
       "      <td>2020</td>\n",
       "    </tr>\n",
       "    <tr>\n",
       "      <th>774</th>\n",
       "      <td>P40 4G</td>\n",
       "      <td>Huawei</td>\n",
       "      <td>Android 10</td>\n",
       "      <td>6.10</td>\n",
       "      <td>3800</td>\n",
       "      <td>Li-Po</td>\n",
       "      <td>8</td>\n",
       "      <td>175.0</td>\n",
       "      <td>128</td>\n",
       "      <td>True</td>\n",
       "      <td>...</td>\n",
       "      <td>False</td>\n",
       "      <td>True</td>\n",
       "      <td>False</td>\n",
       "      <td>False</td>\n",
       "      <td>False</td>\n",
       "      <td>True</td>\n",
       "      <td>2300.00</td>\n",
       "      <td>1080</td>\n",
       "      <td>2340</td>\n",
       "      <td>2021</td>\n",
       "    </tr>\n",
       "    <tr>\n",
       "      <th>947</th>\n",
       "      <td>iPhone 13 Pro</td>\n",
       "      <td>Apple</td>\n",
       "      <td>iOS 15</td>\n",
       "      <td>6.10</td>\n",
       "      <td>3095</td>\n",
       "      <td>Li-Ion</td>\n",
       "      <td>6</td>\n",
       "      <td>204.0</td>\n",
       "      <td>128</td>\n",
       "      <td>True</td>\n",
       "      <td>...</td>\n",
       "      <td>True</td>\n",
       "      <td>True</td>\n",
       "      <td>True</td>\n",
       "      <td>True</td>\n",
       "      <td>False</td>\n",
       "      <td>False</td>\n",
       "      <td>1580.09</td>\n",
       "      <td>1170</td>\n",
       "      <td>2532</td>\n",
       "      <td>2021</td>\n",
       "    </tr>\n",
       "    <tr>\n",
       "      <th>1163</th>\n",
       "      <td>Mate Xs 2</td>\n",
       "      <td>Huawei</td>\n",
       "      <td>EMUI 12</td>\n",
       "      <td>7.80</td>\n",
       "      <td>4880</td>\n",
       "      <td>Li-Po</td>\n",
       "      <td>8</td>\n",
       "      <td>255.0</td>\n",
       "      <td>256</td>\n",
       "      <td>True</td>\n",
       "      <td>...</td>\n",
       "      <td>True</td>\n",
       "      <td>True</td>\n",
       "      <td>True</td>\n",
       "      <td>True</td>\n",
       "      <td>False</td>\n",
       "      <td>False</td>\n",
       "      <td>1995.99</td>\n",
       "      <td>2200</td>\n",
       "      <td>2480</td>\n",
       "      <td>2022</td>\n",
       "    </tr>\n",
       "    <tr>\n",
       "      <th>1433</th>\n",
       "      <td>Pixel Fold</td>\n",
       "      <td>Google</td>\n",
       "      <td>Android 13</td>\n",
       "      <td>7.60</td>\n",
       "      <td>4821</td>\n",
       "      <td>Li-Po</td>\n",
       "      <td>12</td>\n",
       "      <td>283.0</td>\n",
       "      <td>256</td>\n",
       "      <td>True</td>\n",
       "      <td>...</td>\n",
       "      <td>True</td>\n",
       "      <td>True</td>\n",
       "      <td>True</td>\n",
       "      <td>True</td>\n",
       "      <td>False</td>\n",
       "      <td>False</td>\n",
       "      <td>1750.00</td>\n",
       "      <td>1840</td>\n",
       "      <td>2208</td>\n",
       "      <td>2023</td>\n",
       "    </tr>\n",
       "  </tbody>\n",
       "</table>\n",
       "<p>9 rows × 23 columns</p>\n",
       "</div>"
      ],
      "text/plain": [
       "         phone_name    brand           os  inches  battery battery_type  \\\n",
       "378     Galaxy M10s  Samsung  Android 9.0    6.40     4000       Li-Ion   \n",
       "420         nova 5z   Huawei  Android 9.0    6.26     4000        Li-Po   \n",
       "441       nova 6 5G   Huawei   Android 10    6.57     4200        Li-Po   \n",
       "486      Xperia Pro     Sony   Android 10    6.50     4000        Li-Po   \n",
       "491        P40 lite   Huawei   Android 10    6.40     4200        Li-Po   \n",
       "774          P40 4G   Huawei   Android 10    6.10     3800        Li-Po   \n",
       "947   iPhone 13 Pro    Apple       iOS 15    6.10     3095       Li-Ion   \n",
       "1163      Mate Xs 2   Huawei      EMUI 12    7.80     4880        Li-Po   \n",
       "1433     Pixel Fold   Google   Android 13    7.60     4821        Li-Po   \n",
       "\n",
       "      ram(GB)  weight(g)  storage(GB)  video_720p  ...  video_30fps  \\\n",
       "378         3      169.0           32       False  ...         True   \n",
       "420         6      178.0           64        True  ...         True   \n",
       "441         8      212.0          128        True  ...         True   \n",
       "486        12      225.0          512        True  ...        False   \n",
       "491         8      183.0          128       False  ...         True   \n",
       "774         8      175.0          128        True  ...        False   \n",
       "947         6      204.0          128        True  ...         True   \n",
       "1163        8      255.0          256        True  ...         True   \n",
       "1433       12      283.0          256        True  ...         True   \n",
       "\n",
       "      video_60fps  video_120fps  video_240fps  video_480fps  video_960fps  \\\n",
       "378         False         False         False         False         False   \n",
       "420         False         False         False         False         False   \n",
       "441          True         False         False         False          True   \n",
       "486          True          True         False         False         False   \n",
       "491         False         False         False         False         False   \n",
       "774          True         False         False         False          True   \n",
       "947          True          True          True         False         False   \n",
       "1163         True          True          True         False         False   \n",
       "1433         True          True          True         False         False   \n",
       "\n",
       "      price(USD)  width  height  announcement_year  \n",
       "378      1750.00    720    1560               2019  \n",
       "420      1700.00   1080    2340               2019  \n",
       "441      2150.00   1080    2400               2019  \n",
       "486      2000.00   1644    3840               2020  \n",
       "491      1950.00   1080    2310               2020  \n",
       "774      2300.00   1080    2340               2021  \n",
       "947      1580.09   1170    2532               2021  \n",
       "1163     1995.99   2200    2480               2022  \n",
       "1433     1750.00   1840    2208               2023  \n",
       "\n",
       "[9 rows x 23 columns]"
      ]
     },
     "execution_count": 67,
     "metadata": {},
     "output_type": "execute_result"
    }
   ],
   "source": [
    "Outliers_P = df[df['price(USD)']> 1500]\n",
    "Outliers_P"
   ]
  },
  {
   "cell_type": "markdown",
   "id": "8e1b2435",
   "metadata": {
    "papermill": {
     "duration": 0.028222,
     "end_time": "2023-09-23T06:33:19.588605",
     "exception": false,
     "start_time": "2023-09-23T06:33:19.560383",
     "status": "completed"
    },
    "tags": []
   },
   "source": [
    "We can remove these columns"
   ]
  },
  {
   "cell_type": "code",
   "execution_count": 68,
   "id": "7257865f",
   "metadata": {
    "execution": {
     "iopub.execute_input": "2023-09-23T06:33:19.643160Z",
     "iopub.status.busy": "2023-09-23T06:33:19.642725Z",
     "iopub.status.idle": "2023-09-23T06:33:19.649380Z",
     "shell.execute_reply": "2023-09-23T06:33:19.648497Z"
    },
    "papermill": {
     "duration": 0.036761,
     "end_time": "2023-09-23T06:33:19.651526",
     "exception": false,
     "start_time": "2023-09-23T06:33:19.614765",
     "status": "completed"
    },
    "tags": []
   },
   "outputs": [],
   "source": [
    "df.drop(Outliers_P.index, inplace = True, axis = 0)\n",
    "df.reset_index(drop = True, inplace= True)"
   ]
  },
  {
   "cell_type": "code",
   "execution_count": 89,
   "id": "9e9833b1",
   "metadata": {},
   "outputs": [
    {
     "data": {
      "text/plain": [
       "(1500, 23)"
      ]
     },
     "execution_count": 89,
     "metadata": {},
     "output_type": "execute_result"
    }
   ],
   "source": [
    "df.shape"
   ]
  },
  {
   "cell_type": "markdown",
   "id": "d6a0b5d9",
   "metadata": {},
   "source": [
    "Data Analysis"
   ]
  },
  {
   "cell_type": "code",
   "execution_count": 69,
   "id": "ac671756",
   "metadata": {
    "execution": {
     "iopub.execute_input": "2023-09-23T06:33:19.758501Z",
     "iopub.status.busy": "2023-09-23T06:33:19.757343Z",
     "iopub.status.idle": "2023-09-23T06:33:20.087380Z",
     "shell.execute_reply": "2023-09-23T06:33:20.086156Z"
    },
    "papermill": {
     "duration": 0.359942,
     "end_time": "2023-09-23T06:33:20.089947",
     "exception": false,
     "start_time": "2023-09-23T06:33:19.730005",
     "status": "completed"
    },
    "tags": []
   },
   "outputs": [
    {
     "data": {
      "text/plain": [
       "<Axes: >"
      ]
     },
     "execution_count": 69,
     "metadata": {},
     "output_type": "execute_result"
    },
    {
     "data": {
      "image/png": "[encoded data removed]",
      "text/plain": [
       "<Figure size 640x480 with 1 Axes>"
      ]
     },
     "metadata": {},
     "output_type": "display_data"
    }
   ],
   "source": [
    "df.brand.value_counts().plot(kind = 'bar')"
   ]
  },
  {
   "cell_type": "markdown",
   "id": "c15434a3",
   "metadata": {
    "papermill": {
     "duration": 0.026715,
     "end_time": "2023-09-23T06:33:20.143326",
     "exception": false,
     "start_time": "2023-09-23T06:33:20.116611",
     "status": "completed"
    },
    "tags": []
   },
   "source": [
    "xiaomi is the most brand produce mobiles and Google is the least"
   ]
  },
  {
   "cell_type": "code",
   "execution_count": 70,
   "id": "4e3438e0",
   "metadata": {
    "execution": {
     "iopub.execute_input": "2023-09-23T06:33:20.201353Z",
     "iopub.status.busy": "2023-09-23T06:33:20.200442Z",
     "iopub.status.idle": "2023-09-23T06:33:20.527732Z",
     "shell.execute_reply": "2023-09-23T06:33:20.526534Z"
    },
    "papermill": {
     "duration": 0.358579,
     "end_time": "2023-09-23T06:33:20.530442",
     "exception": false,
     "start_time": "2023-09-23T06:33:20.171863",
     "status": "completed"
    },
    "tags": []
   },
   "outputs": [
    {
     "data": {
      "text/plain": [
       "<Axes: >"
      ]
     },
     "execution_count": 70,
     "metadata": {},
     "output_type": "execute_result"
    },
    {
     "data": {
      "image/png": "[encoded data removed]",
      "text/plain": [
       "<Figure size 640x480 with 1 Axes>"
      ]
     },
     "metadata": {},
     "output_type": "display_data"
    }
   ],
   "source": [
    "df.os.value_counts().head(11).plot(kind = 'bar')"
   ]
  },
  {
   "cell_type": "markdown",
   "id": "ae0c233b",
   "metadata": {
    "papermill": {
     "duration": 0.027311,
     "end_time": "2023-09-23T06:33:20.585096",
     "exception": false,
     "start_time": "2023-09-23T06:33:20.557785",
     "status": "completed"
    },
    "tags": []
   },
   "source": [
    "Android 11 and Android 10 is the most os used in mobiles"
   ]
  },
  {
   "cell_type": "code",
   "execution_count": 71,
   "id": "175fdf93",
   "metadata": {},
   "outputs": [
    {
     "name": "stdout",
     "output_type": "stream",
     "text": [
      "Most Common Operating System in $100-$200 range: Android 10\n",
      "Most Common Operating System in $200-$300 range: Android 11\n"
     ]
    }
   ],
   "source": [
    "phones_100_200 = df[(df[\"price(USD)\"] >= 100) & (df['price(USD)'] <= 200)]\n",
    "phones_200_300 = df[(df[\"price(USD)\"] >= 200) & (df['price(USD)'] <= 300)]\n",
    "\n",
    "common_os_100_200 = phones_100_200[\"os\"].mode()[0]\n",
    "common_os_200_300 = phones_200_300[\"os\"].mode()[0]\n",
    "\n",
    "print(\"Most Common Operating System in $100-$200 range:\", common_os_100_200)\n",
    "print(\"Most Common Operating System in $200-$300 range:\", common_os_200_300)"
   ]
  },
  {
   "cell_type": "code",
   "execution_count": 72,
   "id": "2fa5fd55",
   "metadata": {},
   "outputs": [
    {
     "data": {
      "image/png": "[encoded data removed]",
      "text/plain": [
       "<Figure size 640x480 with 1 Axes>"
      ]
     },
     "metadata": {},
     "output_type": "display_data"
    }
   ],
   "source": [
    "sb.histplot(df['price(USD)'], bins=30)\n",
    "plt.title('Price Distribution')\n",
    "plt.xlabel('Price')\n",
    "plt.show()"
   ]
  },
  {
   "cell_type": "code",
   "execution_count": 73,
   "id": "4076b5e5",
   "metadata": {},
   "outputs": [
    {
     "name": "stdout",
     "output_type": "stream",
     "text": [
      "Company that released the most mobiles in $100-$200 range: Xiaomi\n",
      "Company that released the most mobiles in $200-$300 range: Oppo\n",
      "Company that released the most mobiles in $500-$600 range: Oppo\n",
      "Company that released the most mobiles in $600-$700 range: Samsung\n"
     ]
    }
   ],
   "source": [
    "phones_100_200 = df[(df['price(USD)'] >= 100) & (df['price(USD)'] <= 200)]\n",
    "phones_200_300 = df[(df['price(USD)'] >= 201) & (df['price(USD)'] <= 300)]\n",
    "phones_500_600 = df[(df['price(USD)'] >= 501) & (df['price(USD)'] <= 600)]\n",
    "phones_600_700 = df[(df['price(USD)'] >= 601) & (df['price(USD)'] <= 700)]\n",
    "\n",
    "company_counts = phones_100_200['brand'].value_counts()\n",
    "company_counts2 = phones_200_300['brand'].value_counts()\n",
    "company_counts3 = phones_500_600['brand'].value_counts()\n",
    "company_counts4 = phones_600_700['brand'].value_counts()\n",
    "# Finding the company that released the most mobiles in the given price range\n",
    "most_released_company = company_counts.idxmax()  # Get the index (company name) of the maximum count\n",
    "most_released_company2 = company_counts2.idxmax()\n",
    "most_released_company3 = company_counts3.idxmax()\n",
    "most_released_company4 = company_counts4.idxmax()\n",
    "\n",
    "print(\"Company that released the most mobiles in $100-$200 range:\", most_released_company)\n",
    "print(\"Company that released the most mobiles in $200-$300 range:\", most_released_company2)\n",
    "print(\"Company that released the most mobiles in $500-$600 range:\", most_released_company3)\n",
    "print(\"Company that released the most mobiles in $600-$700 range:\", most_released_company4)"
   ]
  },
  {
   "cell_type": "code",
   "execution_count": 74,
   "id": "3128b5e1",
   "metadata": {},
   "outputs": [
    {
     "data": {
      "image/png": "[encoded data removed]",
      "text/plain": [
       "<Figure size 1000x600 with 1 Axes>"
      ]
     },
     "metadata": {},
     "output_type": "display_data"
    }
   ],
   "source": [
    "phones_100_200 = df[(df['price(USD)'] >= 100) & (df['price(USD)'] <= 200)]\n",
    "\n",
    "# Counting the number of mobiles released by each company in the filtered range\n",
    "company_counts = phones_100_200['brand'].value_counts()\n",
    "\n",
    "# Plotting the counts of mobiles released by different companies\n",
    "plt.figure(figsize=(10, 6))\n",
    "company_counts.plot(kind='bar', color='skyblue')\n",
    "plt.title('Number of Mobiles Released by Companies ($100-$200)')\n",
    "plt.xlabel('Company')\n",
    "plt.ylabel('Number of Mobiles Released')\n",
    "plt.xticks(rotation=45)  # Rotate x-axis labels for better readability\n",
    "plt.tight_layout()\n",
    "plt.show()"
   ]
  },
  {
   "cell_type": "code",
   "execution_count": 75,
   "id": "98fa0ee3",
   "metadata": {},
   "outputs": [
    {
     "data": {
      "image/png": "[encoded data removed]",
      "text/plain": [
       "<Figure size 1000x600 with 1 Axes>"
      ]
     },
     "metadata": {},
     "output_type": "display_data"
    }
   ],
   "source": [
    "phones_100_200 = df[(df['price(USD)'] >= 601) & (df['price(USD)'] <= 700)]\n",
    "\n",
    "# Counting the number of mobiles released by each company in the filtered range\n",
    "company_counts = phones_100_200['brand'].value_counts()\n",
    "\n",
    "# Plotting the counts of mobiles released by different companies\n",
    "plt.figure(figsize=(10, 6))\n",
    "company_counts.plot(kind='bar', color='skyblue')\n",
    "plt.title('Number of Mobiles Released by Companies ($600-$700)')\n",
    "plt.xlabel('Company')\n",
    "plt.ylabel('Number of Mobiles Released')\n",
    "plt.xticks(rotation=45)  # Rotate x-axis labels for better readability\n",
    "plt.tight_layout()\n",
    "plt.show()"
   ]
  },
  {
   "cell_type": "code",
   "execution_count": 76,
   "id": "74f58ec0",
   "metadata": {},
   "outputs": [
    {
     "data": {
      "image/png": "[encoded data removed]",
      "text/plain": [
       "<Figure size 640x480 with 1 Axes>"
      ]
     },
     "metadata": {},
     "output_type": "display_data"
    }
   ],
   "source": [
    "# Scatter plot\n",
    "sb.scatterplot(x='ram(GB)', y='price(USD)',data=df)\n",
    "plt.title('RAM vs. Price')\n",
    "plt.show()"
   ]
  },
  {
   "cell_type": "code",
   "execution_count": 77,
   "id": "df4a7bf2",
   "metadata": {
    "execution": {
     "iopub.execute_input": "2023-09-23T06:33:20.642234Z",
     "iopub.status.busy": "2023-09-23T06:33:20.641633Z",
     "iopub.status.idle": "2023-09-23T06:33:23.922422Z",
     "shell.execute_reply": "2023-09-23T06:33:23.921562Z"
    },
    "papermill": {
     "duration": 3.313333,
     "end_time": "2023-09-23T06:33:23.926147",
     "exception": false,
     "start_time": "2023-09-23T06:33:20.612814",
     "status": "completed"
    },
    "tags": []
   },
   "outputs": [
    {
     "data": {
      "image/png": "[encoded data removed]",
      "text/plain": [
       "<Figure size 2000x1500 with 9 Axes>"
      ]
     },
     "metadata": {},
     "output_type": "display_data"
    }
   ],
   "source": [
    "fig, axs = plt.subplots(3, 3, figsize=(20, 15))\n",
    "\n",
    "sb.histplot(data=df, x=\"inches\", kde=True, color=\"skyblue\", ax=axs[0, 0])\n",
    "sb.histplot(data=df, x=\"battery\", kde=True, color=\"olive\", ax=axs[0, 1])\n",
    "sb.histplot(data=df, x=\"ram(GB)\", kde=True, color=\"gold\", ax=axs[0, 2])\n",
    "sb.histplot(data=df, x=\"weight(g)\", kde=True, color=\"skyblue\", ax=axs[1, 0])\n",
    "sb.histplot(data=df, x=\"storage(GB)\", kde=True, color=\"olive\", ax=axs[1, 1])\n",
    "sb.histplot(data=df, x=\"price(USD)\", kde=True, color=\"gold\", ax=axs[1, 2])\n",
    "sb.histplot(data=df, x=\"width\", kde=True, color=\"skyblue\", ax=axs[2, 0])\n",
    "sb.histplot(data=df, x=\"height\", kde=True, color=\"olive\", ax=axs[2, 1])\n",
    "sb.histplot(data=df, x=\"announcement_year\", kde=True, color=\"gold\", ax=axs[2, 2])\n",
    "\n",
    "plt.show()"
   ]
  },
  {
   "cell_type": "markdown",
   "id": "22ab8de8",
   "metadata": {
    "papermill": {
     "duration": 0.029913,
     "end_time": "2023-09-23T06:33:23.986216",
     "exception": false,
     "start_time": "2023-09-23T06:33:23.956303",
     "status": "completed"
    },
    "tags": []
   },
   "source": [
    "we discovered from this graph:\n",
    "Inches range is from 6 to 7.\n",
    "the most used battery is 5000.\n",
    "the most used RAM is 8 GB.\n",
    "2022 is the most announcement year\n",
    "the most width is 1000.\n",
    "the most height is 2500."
   ]
  },
  {
   "cell_type": "code",
   "execution_count": 78,
   "id": "302cdc5f",
   "metadata": {
    "execution": {
     "iopub.execute_input": "2023-09-23T06:33:24.048347Z",
     "iopub.status.busy": "2023-09-23T06:33:24.047724Z",
     "iopub.status.idle": "2023-09-23T06:33:24.295301Z",
     "shell.execute_reply": "2023-09-23T06:33:24.294111Z"
    },
    "papermill": {
     "duration": 0.281954,
     "end_time": "2023-09-23T06:33:24.298079",
     "exception": false,
     "start_time": "2023-09-23T06:33:24.016125",
     "status": "completed"
    },
    "tags": []
   },
   "outputs": [
    {
     "data": {
      "text/plain": [
       "<Axes: >"
      ]
     },
     "execution_count": 78,
     "metadata": {},
     "output_type": "execute_result"
    },
    {
     "data": {
      "image/png": "[encoded data removed]",
      "text/plain": [
       "<Figure size 640x480 with 1 Axes>"
      ]
     },
     "metadata": {},
     "output_type": "display_data"
    }
   ],
   "source": [
    "df.battery_type.value_counts().plot(kind = 'bar')"
   ]
  },
  {
   "cell_type": "markdown",
   "id": "17a11e07",
   "metadata": {
    "papermill": {
     "duration": 0.030056,
     "end_time": "2023-09-23T06:33:24.358675",
     "exception": false,
     "start_time": "2023-09-23T06:33:24.328619",
     "status": "completed"
    },
    "tags": []
   },
   "source": [
    "there are only 2 battery types\n",
    "Li-po is most popular"
   ]
  },
  {
   "cell_type": "code",
   "execution_count": 79,
   "id": "07f1b095",
   "metadata": {
    "execution": {
     "iopub.execute_input": "2023-09-23T06:33:24.421483Z",
     "iopub.status.busy": "2023-09-23T06:33:24.421101Z",
     "iopub.status.idle": "2023-09-23T06:33:26.090984Z",
     "shell.execute_reply": "2023-09-23T06:33:26.089559Z"
    },
    "papermill": {
     "duration": 1.704158,
     "end_time": "2023-09-23T06:33:26.093360",
     "exception": false,
     "start_time": "2023-09-23T06:33:24.389202",
     "status": "completed"
    },
    "tags": []
   },
   "outputs": [
    {
     "data": {
      "image/png": "[encoded data removed]",
      "text/plain": [
       "<Figure size 2000x1500 with 12 Axes>"
      ]
     },
     "metadata": {},
     "output_type": "display_data"
    }
   ],
   "source": [
    "fig, axs = plt.subplots(4, 3, figsize=(20, 15))\n",
    "\n",
    "sb.countplot(data=df, x=\"video_720p\", color=\"skyblue\", ax=axs[0, 0])\n",
    "sb.countplot(data=df, x=\"video_1080p\", color=\"olive\", ax=axs[0, 1])\n",
    "sb.countplot(data=df, x=\"video_4K\", color=\"gold\", ax=axs[0, 2])\n",
    "sb.countplot(data=df, x=\"video_8K\", color=\"skyblue\", ax=axs[1, 0])\n",
    "sb.countplot(data=df, x=\"video_30fps\", color=\"olive\", ax=axs[1, 1])\n",
    "sb.countplot(data=df, x=\"video_60fps\", color=\"gold\", ax=axs[1, 2])\n",
    "sb.countplot(data=df, x=\"video_120fps\", color=\"skyblue\", ax=axs[2, 0])\n",
    "sb.countplot(data=df, x=\"video_240fps\", color=\"olive\", ax=axs[2, 1])\n",
    "sb.countplot(data=df, x=\"video_480fps\", color=\"gold\", ax=axs[2, 2])\n",
    "sb.countplot(data=df, x=\"video_960fps\", color=\"skyblue\", ax=axs[3, 0])\n",
    "\n",
    "\n",
    "plt.show()"
   ]
  },
  {
   "cell_type": "markdown",
   "id": "170bdeff",
   "metadata": {},
   "source": [
    "video_1080p and video_30fps are the most cameras used\n",
    "video_8K, video_240fps and video_960fps are the least cameras used"
   ]
  },
  {
   "cell_type": "code",
   "execution_count": 80,
   "id": "943bacd5",
   "metadata": {
    "execution": {
     "iopub.execute_input": "2023-09-23T06:33:26.224470Z",
     "iopub.status.busy": "2023-09-23T06:33:26.224021Z",
     "iopub.status.idle": "2023-09-23T06:33:26.245219Z",
     "shell.execute_reply": "2023-09-23T06:33:26.244112Z"
    },
    "papermill": {
     "duration": 0.057115,
     "end_time": "2023-09-23T06:33:26.247717",
     "exception": false,
     "start_time": "2023-09-23T06:33:26.190602",
     "status": "completed"
    },
    "tags": []
   },
   "outputs": [
    {
     "data": {
      "text/html": [
       "<div>\n",
       "<style scoped>\n",
       "    .dataframe tbody tr th:only-of-type {\n",
       "        vertical-align: middle;\n",
       "    }\n",
       "\n",
       "    .dataframe tbody tr th {\n",
       "        vertical-align: top;\n",
       "    }\n",
       "\n",
       "    .dataframe thead th {\n",
       "        text-align: right;\n",
       "    }\n",
       "</style>\n",
       "<table border=\"1\" class=\"dataframe\">\n",
       "  <thead>\n",
       "    <tr style=\"text-align: right;\">\n",
       "      <th></th>\n",
       "      <th>price(USD)</th>\n",
       "    </tr>\n",
       "    <tr>\n",
       "      <th>brand</th>\n",
       "      <th></th>\n",
       "    </tr>\n",
       "  </thead>\n",
       "  <tbody>\n",
       "    <tr>\n",
       "      <th>Apple</th>\n",
       "      <td>637.177619</td>\n",
       "    </tr>\n",
       "    <tr>\n",
       "      <th>Google</th>\n",
       "      <td>375.753889</td>\n",
       "    </tr>\n",
       "    <tr>\n",
       "      <th>Honor</th>\n",
       "      <td>358.954715</td>\n",
       "    </tr>\n",
       "    <tr>\n",
       "      <th>Huawei</th>\n",
       "      <td>342.728636</td>\n",
       "    </tr>\n",
       "    <tr>\n",
       "      <th>LG</th>\n",
       "      <td>264.000000</td>\n",
       "    </tr>\n",
       "    <tr>\n",
       "      <th>Lenovo</th>\n",
       "      <td>248.536585</td>\n",
       "    </tr>\n",
       "    <tr>\n",
       "      <th>OnePlus</th>\n",
       "      <td>421.010723</td>\n",
       "    </tr>\n",
       "    <tr>\n",
       "      <th>Oppo</th>\n",
       "      <td>341.332000</td>\n",
       "    </tr>\n",
       "    <tr>\n",
       "      <th>Realme</th>\n",
       "      <td>242.407732</td>\n",
       "    </tr>\n",
       "    <tr>\n",
       "      <th>Samsung</th>\n",
       "      <td>340.922156</td>\n",
       "    </tr>\n",
       "    <tr>\n",
       "      <th>Sony</th>\n",
       "      <td>428.304444</td>\n",
       "    </tr>\n",
       "    <tr>\n",
       "      <th>Vivo</th>\n",
       "      <td>338.002393</td>\n",
       "    </tr>\n",
       "    <tr>\n",
       "      <th>Xiaomi</th>\n",
       "      <td>306.254129</td>\n",
       "    </tr>\n",
       "  </tbody>\n",
       "</table>\n",
       "</div>"
      ],
      "text/plain": [
       "         price(USD)\n",
       "brand              \n",
       "Apple    637.177619\n",
       "Google   375.753889\n",
       "Honor    358.954715\n",
       "Huawei   342.728636\n",
       "LG       264.000000\n",
       "Lenovo   248.536585\n",
       "OnePlus  421.010723\n",
       "Oppo     341.332000\n",
       "Realme   242.407732\n",
       "Samsung  340.922156\n",
       "Sony     428.304444\n",
       "Vivo     338.002393\n",
       "Xiaomi   306.254129"
      ]
     },
     "execution_count": 80,
     "metadata": {},
     "output_type": "execute_result"
    }
   ],
   "source": [
    "BrandVsPrice = df.pivot_table(index = 'brand', values = 'price(USD)')\n",
    "BrandVsPrice\n"
   ]
  },
  {
   "cell_type": "code",
   "execution_count": 85,
   "id": "c81ef2db",
   "metadata": {
    "execution": {
     "iopub.execute_input": "2023-09-23T06:33:26.315566Z",
     "iopub.status.busy": "2023-09-23T06:33:26.314435Z",
     "iopub.status.idle": "2023-09-23T06:33:26.654674Z",
     "shell.execute_reply": "2023-09-23T06:33:26.653586Z"
    },
    "papermill": {
     "duration": 0.376895,
     "end_time": "2023-09-23T06:33:26.657366",
     "exception": false,
     "start_time": "2023-09-23T06:33:26.280471",
     "status": "completed"
    },
    "tags": []
   },
   "outputs": [
    {
     "data": {
      "image/png": "[encoded data removed]",
      "text/plain": [
       "<Figure size 1000x500 with 1 Axes>"
      ]
     },
     "metadata": {},
     "output_type": "display_data"
    }
   ],
   "source": [
    "fig = plt.figure(figsize = (10, 5))\n",
    " \n",
    "# creating the bar plot\n",
    "plt.bar(BrandVsPrice.index, BrandVsPrice['price(USD)'], color ='maroon',\n",
    "        width = 0.5)\n",
    " \n",
    "plt.xlabel(\"Brand\")\n",
    "plt.ylabel(\"Average of Cost\")\n",
    "plt.title(\"Cost average for each brand\")\n",
    "plt.show()"
   ]
  },
  {
   "cell_type": "markdown",
   "id": "0452cccb",
   "metadata": {
    "papermill": {
     "duration": 0.032391,
     "end_time": "2023-09-23T06:33:26.722945",
     "exception": false,
     "start_time": "2023-09-23T06:33:26.690554",
     "status": "completed"
    },
    "tags": []
   },
   "source": [
    "Apple brand is the most expensive and Realme and Linovo are the cheapest."
   ]
  },
  {
   "cell_type": "code",
   "execution_count": 86,
   "id": "f7fa68b9",
   "metadata": {
    "execution": {
     "iopub.execute_input": "2023-09-23T06:33:26.791605Z",
     "iopub.status.busy": "2023-09-23T06:33:26.791208Z",
     "iopub.status.idle": "2023-09-23T06:33:26.818907Z",
     "shell.execute_reply": "2023-09-23T06:33:26.817698Z"
    },
    "papermill": {
     "duration": 0.065259,
     "end_time": "2023-09-23T06:33:26.821490",
     "exception": false,
     "start_time": "2023-09-23T06:33:26.756231",
     "status": "completed"
    },
    "tags": []
   },
   "outputs": [
    {
     "data": {
      "text/html": [
       "<div>\n",
       "<style scoped>\n",
       "    .dataframe tbody tr th:only-of-type {\n",
       "        vertical-align: middle;\n",
       "    }\n",
       "\n",
       "    .dataframe tbody tr th {\n",
       "        vertical-align: top;\n",
       "    }\n",
       "\n",
       "    .dataframe thead th {\n",
       "        text-align: right;\n",
       "    }\n",
       "</style>\n",
       "<table border=\"1\" class=\"dataframe\">\n",
       "  <thead>\n",
       "    <tr style=\"text-align: right;\">\n",
       "      <th>battery_type</th>\n",
       "      <th>Li-Ion</th>\n",
       "      <th>Li-Po</th>\n",
       "    </tr>\n",
       "    <tr>\n",
       "      <th>brand</th>\n",
       "      <th></th>\n",
       "      <th></th>\n",
       "    </tr>\n",
       "  </thead>\n",
       "  <tbody>\n",
       "    <tr>\n",
       "      <th>Apple</th>\n",
       "      <td>21.0</td>\n",
       "      <td>NaN</td>\n",
       "    </tr>\n",
       "    <tr>\n",
       "      <th>Google</th>\n",
       "      <td>6.0</td>\n",
       "      <td>12.0</td>\n",
       "    </tr>\n",
       "    <tr>\n",
       "      <th>Honor</th>\n",
       "      <td>3.0</td>\n",
       "      <td>120.0</td>\n",
       "    </tr>\n",
       "    <tr>\n",
       "      <th>Huawei</th>\n",
       "      <td>31.0</td>\n",
       "      <td>101.0</td>\n",
       "    </tr>\n",
       "    <tr>\n",
       "      <th>LG</th>\n",
       "      <td>27.0</td>\n",
       "      <td>48.0</td>\n",
       "    </tr>\n",
       "    <tr>\n",
       "      <th>Lenovo</th>\n",
       "      <td>13.0</td>\n",
       "      <td>28.0</td>\n",
       "    </tr>\n",
       "    <tr>\n",
       "      <th>OnePlus</th>\n",
       "      <td>NaN</td>\n",
       "      <td>47.0</td>\n",
       "    </tr>\n",
       "    <tr>\n",
       "      <th>Oppo</th>\n",
       "      <td>24.0</td>\n",
       "      <td>189.0</td>\n",
       "    </tr>\n",
       "    <tr>\n",
       "      <th>Realme</th>\n",
       "      <td>6.0</td>\n",
       "      <td>151.0</td>\n",
       "    </tr>\n",
       "    <tr>\n",
       "      <th>Samsung</th>\n",
       "      <td>95.0</td>\n",
       "      <td>110.0</td>\n",
       "    </tr>\n",
       "    <tr>\n",
       "      <th>Sony</th>\n",
       "      <td>24.0</td>\n",
       "      <td>12.0</td>\n",
       "    </tr>\n",
       "    <tr>\n",
       "      <th>Vivo</th>\n",
       "      <td>NaN</td>\n",
       "      <td>168.0</td>\n",
       "    </tr>\n",
       "    <tr>\n",
       "      <th>Xiaomi</th>\n",
       "      <td>17.0</td>\n",
       "      <td>247.0</td>\n",
       "    </tr>\n",
       "  </tbody>\n",
       "</table>\n",
       "</div>"
      ],
      "text/plain": [
       "battery_type  Li-Ion  Li-Po\n",
       "brand                      \n",
       "Apple           21.0    NaN\n",
       "Google           6.0   12.0\n",
       "Honor            3.0  120.0\n",
       "Huawei          31.0  101.0\n",
       "LG              27.0   48.0\n",
       "Lenovo          13.0   28.0\n",
       "OnePlus          NaN   47.0\n",
       "Oppo            24.0  189.0\n",
       "Realme           6.0  151.0\n",
       "Samsung         95.0  110.0\n",
       "Sony            24.0   12.0\n",
       "Vivo             NaN  168.0\n",
       "Xiaomi          17.0  247.0"
      ]
     },
     "execution_count": 86,
     "metadata": {},
     "output_type": "execute_result"
    }
   ],
   "source": [
    "BrandVsBattery = df.pivot_table(index = ['brand'], columns = 'battery_type', values = 'price(USD)', aggfunc='count')\n",
    "BrandVsBattery"
   ]
  },
  {
   "cell_type": "code",
   "execution_count": 87,
   "id": "cd80ea0c",
   "metadata": {
    "execution": {
     "iopub.execute_input": "2023-09-23T06:33:26.889528Z",
     "iopub.status.busy": "2023-09-23T06:33:26.889145Z",
     "iopub.status.idle": "2023-09-23T06:33:27.341292Z",
     "shell.execute_reply": "2023-09-23T06:33:27.340418Z"
    },
    "papermill": {
     "duration": 0.488775,
     "end_time": "2023-09-23T06:33:27.343436",
     "exception": false,
     "start_time": "2023-09-23T06:33:26.854661",
     "status": "completed"
    },
    "tags": []
   },
   "outputs": [
    {
     "data": {
      "image/png": "[encoded data removed]",
      "text/plain": [
       "<Figure size 640x480 with 1 Axes>"
      ]
     },
     "metadata": {},
     "output_type": "display_data"
    }
   ],
   "source": [
    "ax = BrandVsBattery.plot(\n",
    "kind='barh', stacked=True,\n",
    "title='Battrery Users')\n",
    "ax.invert_yaxis() \n",
    "\n",
    "ax.set(xlabel='number of Users', ylabel='Brand')\n",
    "ax.legend(title='carrier')\n",
    "\n",
    "# removes the top and right lines\n",
    "for spine in ['top', 'right']:\n",
    "    ax.spines[spine].set_visible(False)"
   ]
  },
  {
   "cell_type": "markdown",
   "id": "dc8f08ab",
   "metadata": {},
   "source": [
    "it seems that most brands like Li-Po battery (xiaomi is the most user).\n",
    "vivo and OnePlus are only used Li-Po while Apple only used Li-Ion.\n",
    "Samsung uses them both."
   ]
  },
  {
   "cell_type": "code",
   "execution_count": null,
   "id": "e69f36aa",
   "metadata": {},
   "outputs": [],
   "source": []
  }
 ],
 "metadata": {
  "kernelspec": {
   "display_name": "Python 3 (ipykernel)",
   "language": "python",
   "name": "python3"
  },
  "language_info": {
   "codemirror_mode": {
    "name": "ipython",
    "version": 3
   },
   "file_extension": ".py",
   "mimetype": "text/x-python",
   "name": "python",
   "nbconvert_exporter": "python",
   "pygments_lexer": "ipython3",
   "version": "3.11.4"
  },
  "papermill": {
   "default_parameters": {},
   "duration": 23.358995,
   "end_time": "2023-09-23T06:33:34.000127",
   "environment_variables": {},
   "exception": null,
   "input_path": "__notebook__.ipynb",
   "output_path": "__notebook__.ipynb",
   "parameters": {},
   "start_time": "2023-09-23T06:33:10.641132",
   "version": "2.4.0"
  }
 },
 "nbformat": 4,
 "nbformat_minor": 5
}
